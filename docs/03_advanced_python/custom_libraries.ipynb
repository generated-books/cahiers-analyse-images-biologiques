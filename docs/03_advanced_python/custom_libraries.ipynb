{
 "cells": [
  {
   "cell_type": "markdown",
   "id": "directed-compensation",
   "metadata": {},
   "source": [
    "# Biblioth\u00e8ques personnalis\u00e9es\n",
    "Lorsque vous programmez en Python depuis un certain temps, vous pouvez \u00eatre amen\u00e9 \u00e0 utiliser le m\u00eame code encore et encore. Vous pourriez le copier-coller d'un notebook Jupyter \u00e0 un autre. Cependant, les notebooks ne sont pas con\u00e7us pour contenir de nombreuses fonctions. Les notebooks sont destin\u00e9s \u00e0 montrer des exemples courts et concis de code. Ainsi, afin d'organiser notre code, nous pouvons placer les fonctions que nous utilisons le plus souvent dans un fichier Python, une biblioth\u00e8que personnalis\u00e9e, puis importer ces fonctions.\n",
    "\n",
    "Voir aussi :\n",
    "* [Le syst\u00e8me d'importation](https://docs.python.org/3/reference/import.html)\n",
    "\n",
    "Dans le m\u00eame dossier, il existe un fichier [my_library.py](my_library.py). Il contient deux fonctions. Importons-les et utilisons-les :"
   ]
  },
  {
   "cell_type": "code",
   "execution_count": 1,
   "id": "collaborative-leisure",
   "metadata": {},
   "outputs": [],
   "source": [
    "from my_library import square"
   ]
  },
  {
   "cell_type": "code",
   "execution_count": 2,
   "id": "compressed-chassis",
   "metadata": {},
   "outputs": [
    {
     "data": {
      "text/plain": [
       "25"
      ]
     },
     "execution_count": 2,
     "metadata": {},
     "output_type": "execute_result"
    }
   ],
   "source": [
    "square(5)"
   ]
  },
  {
   "cell_type": "code",
   "execution_count": 4,
   "id": "coastal-franklin",
   "metadata": {},
   "outputs": [],
   "source": [
    "from my_library import *"
   ]
  },
  {
   "cell_type": "code",
   "execution_count": 5,
   "id": "defensive-small",
   "metadata": {},
   "outputs": [
    {
     "data": {
      "text/plain": [
       "2.449489742783178"
      ]
     },
     "execution_count": 5,
     "metadata": {},
     "output_type": "execute_result"
    }
   ],
   "source": [
    "wuzzle(5)"
   ]
  },
  {
   "cell_type": "markdown",
   "id": "aggregate-invalid",
   "metadata": {},
   "source": [
    "Lorsque vous maintenez votre propre biblioth\u00e8que de fonctions, assurez-vous que les fonctions ont des noms raisonnables et des docstrings utiles. Vous pourriez autrement \u00eatre confus \u00e0 propos de votre propre code plus tard.\n",
    "\n",
    "Voici un bon exemple :"
   ]
  },
  {
   "cell_type": "code",
   "execution_count": 6,
   "id": "catholic-afternoon",
   "metadata": {},
   "outputs": [
    {
     "name": "stdout",
     "output_type": "stream",
     "text": [
      "\n",
      "    Squares a number by multiplying it with itself  and returns its result.\n",
      "    \n"
     ]
    }
   ],
   "source": [
    "print(square.__doc__)"
   ]
  },
  {
   "cell_type": "markdown",
   "id": "textile-cricket",
   "metadata": {},
   "source": [
    "Voici un mauvais exemple :"
   ]
  },
  {
   "cell_type": "code",
   "execution_count": 8,
   "id": "lesbian-candy",
   "metadata": {},
   "outputs": [
    {
     "name": "stdout",
     "output_type": "stream",
     "text": [
      "\n",
      "    The wuzzle function manipulates a number in a magic way and returns the result.\n",
      "    \n"
     ]
    }
   ],
   "source": [
    "print(wuzzle.__doc__)"
   ]
  },
  {
   "cell_type": "markdown",
   "id": "approved-violence",
   "metadata": {},
   "source": [
    "## Modification du code dans les biblioth\u00e8ques personnalis\u00e9es\n",
    "Si vous modifiez le code dans un fichier de biblioth\u00e8que Python en parall\u00e8le avec le code dans un notebook, vous devrez peut-\u00eatre red\u00e9marrer votre notebook apr\u00e8s avoir modifi\u00e9 le fichier de la biblioth\u00e8que. Vous pouvez le faire dans le menu `Kernel > Restart & Run All`."
   ]
  },
  {
   "cell_type": "markdown",
   "id": "liable-press",
   "metadata": {},
   "source": [
    "# Exercice\n",
    "Cr\u00e9ez votre propre biblioth\u00e8que et \u00e9crivez une fonction qui peut calculer la [distance euclidienne](https://fr.wikipedia.org/wiki/Distance_euclidienne) entre deux points. Les coordonn\u00e9es des points sont donn\u00e9es sous forme de tuples. Astuce : Vous aurez besoin d'une boucle for dans cette fonction qui it\u00e8re par paires sur les deux coordonn\u00e9es :"
   ]
  },
  {
   "cell_type": "code",
   "execution_count": 9,
   "id": "worse-reggae",
   "metadata": {},
   "outputs": [],
   "source": [
    "p = (1.5, 6.4, 7.3)\n",
    "q = (3.4, 1.0, 0.9)"
   ]
  },
  {
   "cell_type": "code",
   "execution_count": null,
   "id": "confident-incidence",
   "metadata": {},
   "outputs": [],
   "source": []
  }
 ],
 "metadata": {
  "kernelspec": {
   "display_name": "Python 3",
   "language": "python",
   "name": "python3"
  },
  "language_info": {
   "codemirror_mode": {
    "name": "ipython",
    "version": 3
   },
   "file_extension": ".py",
   "mimetype": "text/x-python",
   "name": "python",
   "nbconvert_exporter": "python",
   "pygments_lexer": "ipython3",
   "version": "3.9.4"
  }
 },
 "nbformat": 4,
 "nbformat_minor": 5
}