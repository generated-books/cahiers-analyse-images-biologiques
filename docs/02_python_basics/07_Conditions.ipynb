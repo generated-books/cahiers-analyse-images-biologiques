{
 "cells": [
  {
   "cell_type": "markdown",
   "id": "casual-purpose",
   "metadata": {},
   "source": [
    "# Conditions\n",
    "L'instruction `if` peut \u00eatre utilis\u00e9e pour ex\u00e9cuter du code de mani\u00e8re conditionnelle. Cela signifie seulement si une expression est vraie. \n",
    "\n",
    "Voir aussi :\n",
    "* [if\u2026elif\u2026else en Python](https://www.datacamp.com/community/tutorials/elif-statements-python)\n",
    "\n",
    "Examinons d'abord quelques expressions"
   ]
  },
  {
   "cell_type": "code",
   "execution_count": 1,
   "id": "sensitive-graham",
   "metadata": {},
   "outputs": [
    {
     "data": {
      "text/plain": [
       "False"
      ]
     },
     "execution_count": 1,
     "metadata": {},
     "output_type": "execute_result"
    }
   ],
   "source": [
    "3 > 4"
   ]
  },
  {
   "cell_type": "code",
   "execution_count": 2,
   "id": "spare-official",
   "metadata": {},
   "outputs": [
    {
     "data": {
      "text/plain": [
       "False"
      ]
     },
     "execution_count": 2,
     "metadata": {},
     "output_type": "execute_result"
    }
   ],
   "source": [
    "a = 3\n",
    "b = 4\n",
    "\n",
    "a > b"
   ]
  },
  {
   "cell_type": "code",
   "execution_count": 3,
   "id": "olive-supervisor",
   "metadata": {},
   "outputs": [
    {
     "data": {
      "text/plain": [
       "True"
      ]
     },
     "execution_count": 3,
     "metadata": {},
     "output_type": "execute_result"
    }
   ],
   "source": [
    "a < b"
   ]
  },
  {
   "cell_type": "code",
   "execution_count": 4,
   "id": "gorgeous-summit",
   "metadata": {},
   "outputs": [
    {
     "data": {
      "text/plain": [
       "True"
      ]
     },
     "execution_count": 4,
     "metadata": {},
     "output_type": "execute_result"
    }
   ],
   "source": [
    "# non \u00e9gal\n",
    "a != b"
   ]
  },
  {
   "cell_type": "code",
   "execution_count": 5,
   "id": "assisted-governor",
   "metadata": {},
   "outputs": [
    {
     "data": {
      "text/plain": [
       "False"
      ]
     },
     "execution_count": 5,
     "metadata": {},
     "output_type": "execute_result"
    }
   ],
   "source": [
    "# \u00e9gal\n",
    "a == b"
   ]
  },
  {
   "cell_type": "code",
   "execution_count": 6,
   "id": "looking-activation",
   "metadata": {},
   "outputs": [],
   "source": [
    "# Note : Ne pas confondre avec ceci :\n",
    "a = b"
   ]
  },
  {
   "cell_type": "markdown",
   "id": "complimentary-blade",
   "metadata": {},
   "source": [
    "## L'instruction `if`\n",
    "Apr\u00e8s avoir utilis\u00e9 `if` en combinaison avec une expression, vous devez mettre deux points `:` et le code suivant doit \u00eatre indent\u00e9 :"
   ]
  },
  {
   "cell_type": "code",
   "execution_count": 7,
   "id": "cathedral-circumstances",
   "metadata": {},
   "outputs": [
    {
     "name": "stdout",
     "output_type": "stream",
     "text": [
      "Math is great.\n"
     ]
    }
   ],
   "source": [
    "if 3 < 4:\n",
    "    print(\"Les maths sont g\u00e9niales.\")"
   ]
  },
  {
   "cell_type": "code",
   "execution_count": 8,
   "id": "provincial-pulse",
   "metadata": {},
   "outputs": [],
   "source": [
    "if 3 > 4:\n",
    "    print(\"Les maths sont \u00e9tranges.\")"
   ]
  },
  {
   "cell_type": "markdown",
   "id": "affecting-robert",
   "metadata": {},
   "source": [
    "Vous pouvez \u00e9galement \u00e9crire des comparaisons plus sophistiqu\u00e9es :"
   ]
  },
  {
   "cell_type": "code",
   "execution_count": 9,
   "id": "noble-safety",
   "metadata": {},
   "outputs": [
    {
     "name": "stdout",
     "output_type": "stream",
     "text": [
      "C is between 4 and 20.\n"
     ]
    }
   ],
   "source": [
    "c = 10\n",
    "\n",
    "if 4 < c < 20:\n",
    "    print(\"C est entre 4 et 20.\")"
   ]
  },
  {
   "cell_type": "markdown",
   "id": "minute-exclusion",
   "metadata": {},
   "source": [
    "Ou combiner des expressions en utilisant `and` et `or` :"
   ]
  },
  {
   "cell_type": "code",
   "execution_count": 10,
   "id": "stuffed-intermediate",
   "metadata": {},
   "outputs": [],
   "source": [
    "if c > 4 and c < 10:\n",
    "    print(\"C est entre 4 et 20.\")"
   ]
  },
  {
   "cell_type": "markdown",
   "id": "democratic-cutting",
   "metadata": {},
   "source": [
    "Si vous voulez v\u00e9rifier si un \u00e9l\u00e9ment est dans un tableau, faites-le comme ceci :"
   ]
  },
  {
   "cell_type": "code",
   "execution_count": 11,
   "id": "disciplinary-spelling",
   "metadata": {},
   "outputs": [
    {
     "name": "stdout",
     "output_type": "stream",
     "text": [
      "Our list of animals contains a cat\n"
     ]
    }
   ],
   "source": [
    "animals = ['cat', 'dog', 'mouse']\n",
    "\n",
    "if 'cat' in animals:\n",
    "    print('Notre liste d\\'animaux contient un chat')"
   ]
  },
  {
   "cell_type": "markdown",
   "id": "vietnamese-instrument",
   "metadata": {},
   "source": [
    "Vous pouvez aussi analyser des cha\u00eenes de caract\u00e8res. Par exemple, v\u00e9rifier si elles commencent ou se terminent par certains caract\u00e8res :"
   ]
  },
  {
   "cell_type": "code",
   "execution_count": 12,
   "id": "demanding-scott",
   "metadata": {},
   "outputs": [
    {
     "name": "stdout",
     "output_type": "stream",
     "text": [
      "The file is an image!\n"
     ]
    }
   ],
   "source": [
    "filename = \"cells.tif\"\n",
    "\n",
    "if filename.endswith(\"tif\"):\n",
    "    print(\"Le fichier est une image !\")"
   ]
  },
  {
   "cell_type": "markdown",
   "id": "naked-penny",
   "metadata": {},
   "source": [
    "## L'instruction `if-else`\n",
    "Si vous avez deux morceaux de code diff\u00e9rents qui doivent \u00eatre ex\u00e9cut\u00e9s alternativement, utilisez `if-else` :"
   ]
  },
  {
   "cell_type": "code",
   "execution_count": 13,
   "id": "sophisticated-forum",
   "metadata": {},
   "outputs": [
    {
     "name": "stdout",
     "output_type": "stream",
     "text": [
      "We need to improve our quality.\n"
     ]
    }
   ],
   "source": [
    "quality_in_percent = 89\n",
    "\n",
    "if quality_in_percent > 90:    \n",
    "    print(\"Notre qualit\u00e9 est suffisamment \u00e9lev\u00e9e.\")\n",
    "else:\n",
    "    print(\"Nous devons am\u00e9liorer notre qualit\u00e9.\")"
   ]
  },
  {
   "cell_type": "markdown",
   "id": "shared-ground",
   "metadata": {},
   "source": [
    "## L'instruction `elif`\n",
    "Pour ex\u00e9cuter du code en fonction de plusieurs conditions, utilisez l'instruction `elif` :"
   ]
  },
  {
   "cell_type": "code",
   "execution_count": 14,
   "id": "compound-alliance",
   "metadata": {},
   "outputs": [
    {
     "name": "stdout",
     "output_type": "stream",
     "text": [
      "You scored 23 out of 30\n",
      "Your grade is 3\n"
     ]
    }
   ],
   "source": [
    "# d\u00e9terminer la note de l'examen en fonction de \n",
    "number_of_correct_points = 23\n",
    "number_of_total_points = 30\n",
    "\n",
    "# calculer le pourcentage\n",
    "percentage = number_of_correct_points / number_of_total_points * 100\n",
    "\n",
    "if percentage > 95:\n",
    "    grade = 1\n",
    "elif percentage > 80:\n",
    "    grade = 2\n",
    "elif percentage > 60:\n",
    "    grade = 3\n",
    "elif percentag > 50:\n",
    "    grade = 4\n",
    "else:\n",
    "    grade = 5\n",
    "    \n",
    "print(\"Vous avez obtenu\", number_of_correct_points, \"sur\", number_of_total_points)\n",
    "print(\"Votre note est\", grade)"
   ]
  },
  {
   "cell_type": "markdown",
   "id": "italic-motor",
   "metadata": {},
   "source": [
    "## Exercice\n",
    "\u00c9crivez du code Python qui affiche le moment de la journ\u00e9e, par exemple \"matin\", \"midi\", \"apr\u00e8s-midi\", \"soir\" et \"nuit\" en fonction d'une heure donn\u00e9e."
   ]
  },
  {
   "cell_type": "code",
   "execution_count": 15,
   "id": "hawaiian-bryan",
   "metadata": {},
   "outputs": [],
   "source": [
    "# il est 12:15\n",
    "time_hours = 12\n",
    "time_minutes = 15"
   ]
  },
  {
   "cell_type": "code",
   "execution_count": null,
   "id": "biblical-style",
   "metadata": {},
   "outputs": [],
   "source": []
  }
 ],
 "metadata": {
  "kernelspec": {
   "display_name": "Python 3 (ipykernel)",
   "language": "python",
   "name": "python3"
  },
  "language_info": {
   "codemirror_mode": {
    "name": "ipython",
    "version": 3
   },
   "file_extension": ".py",
   "mimetype": "text/x-python",
   "name": "python",
   "nbconvert_exporter": "python",
   "pygments_lexer": "ipython3",
   "version": "3.9.0"
  }
 },
 "nbformat": 4,
 "nbformat_minor": 5
}