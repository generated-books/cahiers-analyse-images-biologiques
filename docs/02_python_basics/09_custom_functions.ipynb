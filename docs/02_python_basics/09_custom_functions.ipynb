{
 "cells": [
  {
   "cell_type": "markdown",
   "metadata": {},
   "source": [
    "# Fonctions\n",
    "Nous avons utilis\u00e9 des fonctions dans les le\u00e7ons pr\u00e9c\u00e9dentes. Les fonctions ont un nom et des param\u00e8tres. Certaines renvoient un r\u00e9sultat, d'autres non. Nous les appelons g\u00e9n\u00e9ralement en utilisant `resultat = nom(parametres)`.\n",
    "\n",
    "Voir aussi\n",
    "* [Fonctions Python](https://www.tutorialspoint.com/python/python_functions.htm)\n",
    "* [Liste des fonctions int\u00e9gr\u00e9es](https://docs.python.org/3/library/functions.html)\n",
    "\n",
    "Examinons quelques fonctions, par exemple `print(texte)` et `pow(x, y)`. La fonction print prend un param\u00e8tre (ou plusieurs param\u00e8tres) et ne renvoie rien :"
   ]
  },
  {
   "cell_type": "code",
   "execution_count": 1,
   "metadata": {},
   "outputs": [
    {
     "name": "stdout",
     "output_type": "stream",
     "text": [
      "Hello world\n"
     ]
    }
   ],
   "source": [
    "result = print('Hello world')"
   ]
  },
  {
   "cell_type": "code",
   "execution_count": 2,
   "metadata": {},
   "outputs": [],
   "source": [
    "result"
   ]
  },
  {
   "cell_type": "markdown",
   "metadata": {},
   "source": [
    "La fonction [pow](https://docs.python.org/3/library/functions.html#pow) a deux param\u00e8tres et renvoie un r\u00e9sultat :"
   ]
  },
  {
   "cell_type": "code",
   "execution_count": 3,
   "metadata": {},
   "outputs": [],
   "source": [
    "result = pow(2, 3)"
   ]
  },
  {
   "cell_type": "code",
   "execution_count": 4,
   "metadata": {},
   "outputs": [
    {
     "data": {
      "text/plain": [
       "8"
      ]
     },
     "execution_count": 4,
     "metadata": {},
     "output_type": "execute_result"
    }
   ],
   "source": [
    "result"
   ]
  },
  {
   "cell_type": "markdown",
   "metadata": {},
   "source": [
    "## Fonctions personnalis\u00e9es\n",
    "Vous pouvez DEFinir vos propres fonctions en utilisant l'instruction `def`. Apr\u00e8s l'instruction def, vous devez sp\u00e9cifier le nom de votre fonction et entre parenth\u00e8ses ses param\u00e8tres. Ensuite vient deux points `:` et toutes les lignes de code suivantes qui sont indent\u00e9es font partie de cette fonction. Une instruction `return` finale renvoie le r\u00e9sultat \u00e0 l'endroit d'o\u00f9 la fonction a \u00e9t\u00e9 appel\u00e9e."
   ]
  },
  {
   "cell_type": "code",
   "execution_count": 5,
   "metadata": {},
   "outputs": [],
   "source": [
    "def sum_numbers(a, b):\n",
    "    \n",
    "    result = a + b\n",
    "    \n",
    "    return result"
   ]
  },
  {
   "cell_type": "markdown",
   "metadata": {},
   "source": [
    "Vous pouvez ensuite appeler votre fonction aussi souvent que vous le souhaitez"
   ]
  },
  {
   "cell_type": "code",
   "execution_count": 6,
   "metadata": {},
   "outputs": [
    {
     "data": {
      "text/plain": [
       "7"
      ]
     },
     "execution_count": 6,
     "metadata": {},
     "output_type": "execute_result"
    }
   ],
   "source": [
    "sum_numbers(3, 4)"
   ]
  },
  {
   "cell_type": "code",
   "execution_count": 7,
   "metadata": {},
   "outputs": [
    {
     "data": {
      "text/plain": [
       "11"
      ]
     },
     "execution_count": 7,
     "metadata": {},
     "output_type": "execute_result"
    }
   ],
   "source": [
    "sum_numbers(5, 6)"
   ]
  },
  {
   "cell_type": "markdown",
   "metadata": {},
   "source": [
    "Parfois, vous voulez sauvegarder le r\u00e9sultat de votre fonction dans une variable."
   ]
  },
  {
   "cell_type": "code",
   "execution_count": 8,
   "metadata": {},
   "outputs": [
    {
     "name": "stdout",
     "output_type": "stream",
     "text": [
      "9\n"
     ]
    }
   ],
   "source": [
    "c = sum_numbers(4, 5)\n",
    "print(c)"
   ]
  },
  {
   "cell_type": "markdown",
   "metadata": {},
   "source": [
    "## Simplifier le code en utilisant des fonctions\n",
    "Supposons que vous ayez un algorithme complexe qui peut vous dire si un nombre est pair ou impair. Mettons cet algorithme dans une fonction et appelons-le plus tard. Pour notre algorithme, nous utiliserons l'[op\u00e9rateur modulo %](https://en.wikipedia.org/wiki/Modulo_operation)."
   ]
  },
  {
   "cell_type": "code",
   "execution_count": 9,
   "metadata": {},
   "outputs": [],
   "source": [
    "def print_odd_or_even(number):\n",
    "    if number % 2 == 0:\n",
    "        print(number, \"is even\")\n",
    "    else:\n",
    "        print(number, \"is odd\")"
   ]
  },
  {
   "cell_type": "code",
   "execution_count": 10,
   "metadata": {},
   "outputs": [
    {
     "name": "stdout",
     "output_type": "stream",
     "text": [
      "3 is odd\n"
     ]
    }
   ],
   "source": [
    "print_odd_or_even(3)"
   ]
  },
  {
   "cell_type": "code",
   "execution_count": 11,
   "metadata": {},
   "outputs": [
    {
     "name": "stdout",
     "output_type": "stream",
     "text": [
      "4 is even\n"
     ]
    }
   ],
   "source": [
    "print_odd_or_even(4)"
   ]
  },
  {
   "cell_type": "code",
   "execution_count": 12,
   "metadata": {},
   "outputs": [
    {
     "name": "stdout",
     "output_type": "stream",
     "text": [
      "10 is even\n"
     ]
    }
   ],
   "source": [
    "print_odd_or_even(10)"
   ]
  },
  {
   "cell_type": "markdown",
   "metadata": {},
   "source": [
    "Ainsi, au lieu d'\u00e9crire le m\u00eame bloc `if-else` encore et encore, nous pouvons simplement appeler notre fonction personnalis\u00e9e `print_odd_or_even`."
   ]
  },
  {
   "cell_type": "markdown",
   "metadata": {},
   "source": [
    "## Documenter les fonctions\n",
    "Vous pouvez documenter ce que fait une fonction dans sa cha\u00eene de documentation (doc string). La cha\u00eene de documentation suit imm\u00e9diatement l'en-t\u00eate de la fonction et ressemble \u00e0 ceci :"
   ]
  },
  {
   "cell_type": "code",
   "execution_count": 13,
   "metadata": {},
   "outputs": [],
   "source": [
    "def square(number):\n",
    "    '''\n",
    "    \u00c9l\u00e8ve un nombre au carr\u00e9 en le multipliant par lui-m\u00eame et renvoie le r\u00e9sultat.\n",
    "    '''\n",
    "\n",
    "    return number * number"
   ]
  },
  {
   "cell_type": "markdown",
   "metadata": {},
   "source": [
    "Vous pouvez ensuite lire la documentation de la fonction comme ceci :"
   ]
  },
  {
   "cell_type": "code",
   "execution_count": 14,
   "metadata": {},
   "outputs": [
    {
     "name": "stdout",
     "output_type": "stream",
     "text": [
      "\n",
      "    Squares a number by multiplying it with itself  and returns its result.\n",
      "    \n"
     ]
    }
   ],
   "source": [
    "print(square.__doc__)"
   ]
  },
  {
   "cell_type": "markdown",
   "metadata": {},
   "source": [
    "Essayez \u00e9galement ceci si vous voulez que la cha\u00eene de documentation s'affiche c\u00f4te \u00e0 c\u00f4te dans votre notebook :"
   ]
  },
  {
   "cell_type": "code",
   "execution_count": 15,
   "metadata": {},
   "outputs": [
    {
     "data": {
      "text/plain": [
       "\u001b[0;31mSignature:\u001b[0m \u001b[0msquare\u001b[0m\u001b[0;34m(\u001b[0m\u001b[0mnumber\u001b[0m\u001b[0;34m)\u001b[0m\u001b[0;34m\u001b[0m\u001b[0;34m\u001b[0m\u001b[0m\n",
       "\u001b[0;31mDocstring:\u001b[0m Squares a number by multiplying it with itself  and returns its result.\n",
       "\u001b[0;31mFile:\u001b[0m      /var/folders/p1/6svzckgd1y5906pfgm71fvmr0000gn/T/ipykernel_11914/1507435947.py\n",
       "\u001b[0;31mType:\u001b[0m      function\n"
      ]
     },
     "metadata": {},
     "output_type": "display_data"
    }
   ],
   "source": [
    "square?"
   ]
  },
  {
   "cell_type": "markdown",
   "metadata": {},
   "source": [
    "Au fait, vous pouvez faire cela avec n'importe quelle fonction :"
   ]
  },
  {
   "cell_type": "code",
   "execution_count": 16,
   "metadata": {},
   "outputs": [
    {
     "name": "stdout",
     "output_type": "stream",
     "text": [
      "Return the square root of x.\n"
     ]
    }
   ],
   "source": [
    "import math\n",
    "print(math.sqrt.__doc__)"
   ]
  },
  {
   "cell_type": "code",
   "execution_count": 17,
   "metadata": {},
   "outputs": [
    {
     "name": "stdout",
     "output_type": "stream",
     "text": [
      "Return e raised to the power of x.\n"
     ]
    }
   ],
   "source": [
    "print(math.exp.__doc__)"
   ]
  },
  {
   "cell_type": "markdown",
   "metadata": {},
   "source": [
    "## Exercice\n",
    "\u00c9crivez une fonction qui prend deux param\u00e8tres : `nombre_de_points_dans_lexamen` et `nombre_total_de_points_dans_lexamen` et renvoie une note de 1 \u00e0 5. Les \u00e9tudiants avec > 95% des points obtiennent la note 1, au-dessus de 80% ils obtiennent la note 2, au-dessus de 60% la note 3 et au-dessus de 50% la note 4. Les \u00e9tudiants avec moins de 50% obtiennent la note 5 et doivent repasser l'examen. Ensuite, appelez la fonction pour trois \u00e9tudiants qui ont obtenu 15, 25 et 29 points dans un examen avec un total de 30 points."
   ]
  },
  {
   "cell_type": "code",
   "execution_count": null,
   "metadata": {},
   "outputs": [],
   "source": []
  }
 ],
 "metadata": {
  "kernelspec": {
   "display_name": "Python 3 (ipykernel)",
   "language": "python",
   "name": "python3"
  },
  "language_info": {
   "codemirror_mode": {
    "name": "ipython",
    "version": 3
   },
   "file_extension": ".py",
   "mimetype": "text/x-python",
   "name": "python",
   "nbconvert_exporter": "python",
   "pygments_lexer": "ipython3",
   "version": "3.9.0"
  },
  "toc": {
   "base_numbering": 1,
   "nav_menu": {},
   "number_sections": false,
   "sideBar": false,
   "skip_h1_title": false,
   "title_cell": "Table of Contents",
   "title_sidebar": "Contents",
   "toc_cell": false,
   "toc_position": {},
   "toc_section_display": false,
   "toc_window_display": false
  }
 },
 "nbformat": 4,
 "nbformat_minor": 4
}