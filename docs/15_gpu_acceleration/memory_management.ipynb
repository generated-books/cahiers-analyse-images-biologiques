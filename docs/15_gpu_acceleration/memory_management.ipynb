{
 "cells": [
  {
   "cell_type": "markdown",
   "id": "cb1fdbe0",
   "metadata": {},
   "source": [
    "# Suivi de la consommation de m\u00e9moire\n",
    "Lors de la mise en place de flux de travail complexes, il peut \u00eatre judicieux d'examiner la consommation de m\u00e9moire. Dans des environnements interactifs, l'utilisateur peut utiliser le Gestionnaire des t\u00e2ches Windows pour voir \u00e0 quel point la m\u00e9moire GPU est occup\u00e9e. Cela peut \u00eatre fastidieux pour le scripting. Lors de l'utilisation d'un GPU NVIDIA, la proc\u00e9dure suivante peut \u00eatre utilis\u00e9e pour d\u00e9boguer la consommation de m\u00e9moire du flux de travail."
   ]
  },
  {
   "cell_type": "code",
   "execution_count": 1,
   "id": "01a6ede9",
   "metadata": {},
   "outputs": [
    {
     "data": {
      "text/plain": [
       "<NVIDIA GeForce RTX 3050 Ti Laptop GPU on Platform: NVIDIA CUDA (1 refs)>"
      ]
     },
     "execution_count": 1,
     "metadata": {},
     "output_type": "execute_result"
    }
   ],
   "source": [
    "import numpy as np\n",
    "import pyclesperanto_prototype as cle\n",
    "\n",
    "cle.select_device(\"RTX\")"
   ]
  },
  {
   "cell_type": "markdown",
   "id": "8a0e81e0",
   "metadata": {},
   "source": [
    "Pour surveiller la consommation de m\u00e9moire, on peut utiliser [nvidia-smi](https://nvidia.custhelp.com/app/answers/detail/a_id/3751/~/useful-nvidia-smi-queries), un outil en ligne de commande qui peut afficher la quantit\u00e9 de m\u00e9moire actuellement bloqu\u00e9e dans un GPU donn\u00e9, par n'importe quelle application :"
   ]
  },
  {
   "cell_type": "code",
   "execution_count": 2,
   "id": "bedbd481",
   "metadata": {},
   "outputs": [
    {
     "name": "stdout",
     "output_type": "stream",
     "text": [
      "memory.used [MiB]\n",
      "178 MiB\n"
     ]
    }
   ],
   "source": [
    "!nvidia-smi --query-gpu=memory.used --format=csv"
   ]
  },
  {
   "cell_type": "markdown",
   "id": "3ed5c332",
   "metadata": {},
   "source": [
    "Si nous ex\u00e9cutons ensuite une op\u00e9ration sur le GPU et v\u00e9rifions \u00e0 nouveau la consommation de m\u00e9moire, nous devrions voir une augmentation."
   ]
  },
  {
   "cell_type": "code",
   "execution_count": 3,
   "id": "2f06ebac",
   "metadata": {},
   "outputs": [],
   "source": [
    "image = np.random.random((1024, 1024, 100))\n",
    "\n",
    "blurred = cle.gaussian_blur(image)"
   ]
  },
  {
   "cell_type": "code",
   "execution_count": 4,
   "id": "f5328a54",
   "metadata": {},
   "outputs": [
    {
     "name": "stdout",
     "output_type": "stream",
     "text": [
      "memory.used [MiB]\n",
      "580 MiB\n"
     ]
    }
   ],
   "source": [
    "!nvidia-smi --query-gpu=memory.used --format=csv"
   ]
  },
  {
   "cell_type": "markdown",
   "id": "9587fb0c",
   "metadata": {},
   "source": [
    "La commande `del` permet de lib\u00e9rer de la m\u00e9moire. Note : La m\u00e9moire derri\u00e8re la variable peut ne pas \u00eatre lib\u00e9r\u00e9e imm\u00e9diatement, selon l'occupation du syst\u00e8me \u00e0 ce moment-l\u00e0."
   ]
  },
  {
   "cell_type": "code",
   "execution_count": 5,
   "id": "39400e4a",
   "metadata": {},
   "outputs": [],
   "source": [
    "del blurred"
   ]
  },
  {
   "cell_type": "code",
   "execution_count": 6,
   "id": "8bef3a3f",
   "metadata": {},
   "outputs": [
    {
     "name": "stdout",
     "output_type": "stream",
     "text": [
      "memory.used [MiB]\n",
      "180 MiB\n"
     ]
    }
   ],
   "source": [
    "!nvidia-smi --query-gpu=memory.used --format=csv"
   ]
  },
  {
   "cell_type": "code",
   "execution_count": null,
   "id": "fdcd417c",
   "metadata": {},
   "outputs": [],
   "source": []
  }
 ],
 "metadata": {
  "kernelspec": {
   "display_name": "Python 3 (ipykernel)",
   "language": "python",
   "name": "python3"
  },
  "language_info": {
   "codemirror_mode": {
    "name": "ipython",
    "version": 3
   },
   "file_extension": ".py",
   "mimetype": "text/x-python",
   "name": "python",
   "nbconvert_exporter": "python",
   "pygments_lexer": "ipython3",
   "version": "3.9.9"
  }
 },
 "nbformat": 4,
 "nbformat_minor": 5
}