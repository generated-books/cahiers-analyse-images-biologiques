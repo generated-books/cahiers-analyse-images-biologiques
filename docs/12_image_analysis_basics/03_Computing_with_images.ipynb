{
 "cells": [
  {
   "cell_type": "markdown",
   "id": "d236e728-86ed-4f1c-93fe-544bc07ac8d5",
   "metadata": {},
   "source": [
    "# Calculs avec des images\n",
    "\n",
    "Nous avons vu dans le dernier chapitre que les images existent sous forme de tableaux Numpy. Nous allons voir ici diff\u00e9rents types de calculs de traitement d'image que nous pouvons effectuer avec de tels tableaux, comme des op\u00e9rations arithm\u00e9tiques, la combinaison d'images, etc.\n",
    "\n",
    "Nous avons vu dans le dernier chapitre que nous pouvions cr\u00e9er des images en utilisant par exemple la fonction ```np.random.random```. Cr\u00e9ons deux petites images :"
   ]
  },
  {
   "cell_type": "code",
   "execution_count": 1,
   "id": "2568eb4f-13c4-4a20-beeb-882ca58f843e",
   "metadata": {},
   "outputs": [],
   "source": [
    "import numpy as np\n",
    "from matplotlib import pyplot as plt"
   ]
  },
  {
   "cell_type": "code",
   "execution_count": 2,
   "id": "202b00c4-4500-464f-82e6-9a62b4cb2277",
   "metadata": {},
   "outputs": [
    {
     "data": {
      "text/plain": [
       "array([[1., 1., 1., 1., 1.],\n",
       "       [1., 1., 1., 1., 1.],\n",
       "       [1., 1., 1., 1., 1.]])"
      ]
     },
     "execution_count": 2,
     "metadata": {},
     "output_type": "execute_result"
    }
   ],
   "source": [
    "image1 = np.ones((3,5))\n",
    "image1"
   ]
  },
  {
   "cell_type": "code",
   "execution_count": 3,
   "id": "067853b6-f3fa-4c11-a768-30ca5fd8cc6d",
   "metadata": {},
   "outputs": [
    {
     "data": {
      "text/plain": [
       "array([[0.1389824 , 0.99979463, 0.82577042, 0.79474507, 0.23101268],\n",
       "       [0.27034647, 0.01410389, 0.20435784, 0.0721552 , 0.61984191],\n",
       "       [0.85459468, 0.58800162, 0.62462822, 0.01819988, 0.06607906]])"
      ]
     },
     "execution_count": 3,
     "metadata": {},
     "output_type": "execute_result"
    }
   ],
   "source": [
    "image2 = np.random.random((3,5))\n",
    "image2"
   ]
  },
  {
   "cell_type": "markdown",
   "id": "021b84f4-f74a-4c74-80b7-85b4aa3b8836",
   "metadata": {},
   "source": [
    "## Calculs simples\n",
    "\n",
    "Pour rappel du chapitre pr\u00e9c\u00e9dent, nous avons vu que nous pouvions faire de l'arithm\u00e9tique avec des images tout comme nous le ferions avec de simples nombres :"
   ]
  },
  {
   "cell_type": "code",
   "execution_count": 4,
   "id": "d8f0ad23-6616-4056-a34a-cffd04d8cd95",
   "metadata": {},
   "outputs": [
    {
     "data": {
      "text/plain": [
       "array([[4., 4., 4., 4., 4.],\n",
       "       [4., 4., 4., 4., 4.],\n",
       "       [4., 4., 4., 4., 4.]])"
      ]
     },
     "execution_count": 4,
     "metadata": {},
     "output_type": "execute_result"
    }
   ],
   "source": [
    "image1_plus = image1 + 3\n",
    "image1_plus"
   ]
  },
  {
   "cell_type": "markdown",
   "id": "fe7a7149-698c-4286-86a8-7514743abbaa",
   "metadata": {},
   "source": [
    "Ceci est valable pour toutes les op\u00e9rations de base comme l'addition, la multiplication, etc. M\u00eame l'\u00e9l\u00e9vation \u00e0 une puissance donn\u00e9e fonctionne :"
   ]
  },
  {
   "cell_type": "code",
   "execution_count": 5,
   "id": "3a2e5a3d-b132-4d53-b82d-c5d9006e1213",
   "metadata": {},
   "outputs": [
    {
     "data": {
      "text/plain": [
       "array([[16., 16., 16., 16., 16.],\n",
       "       [16., 16., 16., 16., 16.],\n",
       "       [16., 16., 16., 16., 16.]])"
      ]
     },
     "execution_count": 5,
     "metadata": {},
     "output_type": "execute_result"
    }
   ],
   "source": [
    "image1_plus ** 2"
   ]
  },
  {
   "cell_type": "markdown",
   "id": "b201825f-d0b0-41a7-b583-40da2bcbd4e0",
   "metadata": {},
   "source": [
    "## Combinaison d'images\n",
    "\n",
    "Si les images ont la m\u00eame taille, nous pouvons l\u00e0 encore les traiter comme de simples nombres et faire des op\u00e9rations math\u00e9matiques avec elles : encore une fois addition, multiplication, etc. Par exemple :"
   ]
  },
  {
   "cell_type": "code",
   "execution_count": 6,
   "id": "30865c30-8ea6-4e97-a743-49094ff6bdfb",
   "metadata": {},
   "outputs": [
    {
     "data": {
      "text/plain": [
       "array([[1.1389824 , 1.99979463, 1.82577042, 1.79474507, 1.23101268],\n",
       "       [1.27034647, 1.01410389, 1.20435784, 1.0721552 , 1.61984191],\n",
       "       [1.85459468, 1.58800162, 1.62462822, 1.01819988, 1.06607906]])"
      ]
     },
     "execution_count": 6,
     "metadata": {},
     "output_type": "execute_result"
    }
   ],
   "source": [
    "image1 + image2"
   ]
  },
  {
   "cell_type": "markdown",
   "id": "14abbe03-718d-4b70-bab6-d7131c4a7f16",
   "metadata": {},
   "source": [
    "## Fonctions pixel par pixel\n",
    "\n",
    "En plus de nous permettre de cr\u00e9er diff\u00e9rents types de tableaux, Numpy nous fournit \u00e9galement des fonctions qui peuvent op\u00e9rer sur des tableaux. Dans de nombreux cas, l'entr\u00e9e est une image et la sortie est une image de m\u00eame taille o\u00f9 *une fonction donn\u00e9e a \u00e9t\u00e9 appliqu\u00e9e \u00e0 chaque pixel individuel*. \n",
    "\n",
    "Par exemple, nous pourrions vouloir appliquer une fonction logarithmique \u00e0 une image pour r\u00e9duire la plage de valeurs que les pixels peuvent prendre. Ici, nous utiliserions la fonction ```np.log``` :"
   ]
  },
  {
   "cell_type": "code",
   "execution_count": 7,
   "id": "1be0f38c-35df-411e-9961-c2c8285c7288",
   "metadata": {},
   "outputs": [
    {
     "data": {
      "text/plain": [
       "array([[-1.97340794e+00, -2.05388747e-04, -1.91438488e-01,\n",
       "        -2.29733884e-01, -1.46528267e+00],\n",
       "       [-1.30805091e+00, -4.26130469e+00, -1.58788269e+00,\n",
       "        -2.62893591e+00, -4.78290819e-01],\n",
       "       [-1.57127986e-01, -5.31025584e-01, -4.70598659e-01,\n",
       "        -4.00634024e+00, -2.71690330e+00]])"
      ]
     },
     "execution_count": 7,
     "metadata": {},
     "output_type": "execute_result"
    }
   ],
   "source": [
    "np.log(image2)"
   ]
  },
  {
   "cell_type": "markdown",
   "id": "1c5ddcc7-10c2-49b8-8da5-72d3837530e6",
   "metadata": {},
   "source": [
    "Comme nous pouvons le voir, l'image d'entr\u00e9e avait 3 lignes et 5 colonnes et l'image de sortie a les m\u00eames dimensions. Vous pouvez trouver de nombreuses fonctions dans Numpy qui fonctionnent de cette mani\u00e8re, par exemple pour prendre une exponentielle (```np.exp()```), pour faire de la trigonom\u00e9trie (```np.cos()```, ```np.sin()```) etc."
   ]
  },
  {
   "cell_type": "markdown",
   "id": "6a65bd49-255b-4e2f-ac4a-c051a169ddf5",
   "metadata": {},
   "source": [
    "## Statistiques d'image\n",
    "\n",
    "Un autre type de fonctions prend une image en entr\u00e9e mais renvoie une sortie de taille diff\u00e9rente en calculant une statistique sur l'image ou des parties de celle-ci. Par exemple, nous pouvons calculer la moyenne de *toutes* les valeurs de pixels de ```image2``` :"
   ]
  },
  {
   "cell_type": "code",
   "execution_count": 8,
   "id": "00cd34ee-08d3-406f-a8b4-4c31216db5cc",
   "metadata": {},
   "outputs": [
    {
     "data": {
      "text/plain": [
       "0.4215075982440046"
      ]
     },
     "execution_count": 8,
     "metadata": {},
     "output_type": "execute_result"
    }
   ],
   "source": [
    "np.mean(image2)"
   ]
  },
  {
   "cell_type": "markdown",
   "id": "87ae0a8f-f6a4-4190-b85f-a17e8a5bd2d2",
   "metadata": {},
   "source": [
    "Ou nous pouvons sp\u00e9cifier que nous voulons calculer la moyenne le long d'une certaine dimension de l'image, en 2D le long des colonnes ou des lignes. Rappelons-nous ce qu'est ```image2``` :"
   ]
  },
  {
   "cell_type": "code",
   "execution_count": 9,
   "id": "a75034d0-9110-4ee2-b5a5-0d019a5cc352",
   "metadata": {},
   "outputs": [
    {
     "data": {
      "text/plain": [
       "array([[0.1389824 , 0.99979463, 0.82577042, 0.79474507, 0.23101268],\n",
       "       [0.27034647, 0.01410389, 0.20435784, 0.0721552 , 0.61984191],\n",
       "       [0.85459468, 0.58800162, 0.62462822, 0.01819988, 0.06607906]])"
      ]
     },
     "execution_count": 9,
     "metadata": {},
     "output_type": "execute_result"
    }
   ],
   "source": [
    "image2"
   ]
  },
  {
   "cell_type": "markdown",
   "id": "7bea9efb-5aa4-4501-900a-a9cb13208bf0",
   "metadata": {},
   "source": [
    "Maintenant, nous prenons la moyenne sur les colonnes, ce qui signifie le long du premier axe ou ```axis=0``` :"
   ]
  },
  {
   "cell_type": "code",
   "execution_count": 10,
   "id": "3fd7a790-9383-40dd-b2ef-21a1b7fc998f",
   "metadata": {},
   "outputs": [
    {
     "data": {
      "text/plain": [
       "array([0.42130785, 0.53396671, 0.55158549, 0.29503338, 0.30564455])"
      ]
     },
     "execution_count": 10,
     "metadata": {},
     "output_type": "execute_result"
    }
   ],
   "source": [
    "np.mean(image2, axis=0)"
   ]
  },
  {
   "cell_type": "markdown",
   "id": "3069cf2c-362f-494c-a750-3574faf11258",
   "metadata": {},
   "source": [
    "La m\u00eame logique s'applique \u00e0 toutes les autres fonctions statistiques telles que la prise du minimum (```np.min()```), du maximum (```np.max()```), de l'\u00e9cart-type (```np.std()```), de la m\u00e9diane (```np.median()```) etc."
   ]
  },
  {
   "cell_type": "markdown",
   "id": "7d94b5a6-7606-4a0a-b88f-93012d50d5b6",
   "metadata": {},
   "source": [
    "Notez que la plupart de ces fonctions peuvent \u00e9galement \u00eatre appel\u00e9es directement sur la variable du tableau Numpy. Par exemple"
   ]
  },
  {
   "cell_type": "code",
   "execution_count": 11,
   "id": "8e77e21e-92bc-48bc-a26d-5cbbe22d0287",
   "metadata": {},
   "outputs": [
    {
     "data": {
      "text/plain": [
       "0.3362691013424119"
      ]
     },
     "execution_count": 11,
     "metadata": {},
     "output_type": "execute_result"
    }
   ],
   "source": [
    "np.std(image2)"
   ]
  },
  {
   "cell_type": "markdown",
   "id": "f5b00ab4-c6d0-4ab6-815f-41408d0f5999",
   "metadata": {},
   "source": [
    "et"
   ]
  },
  {
   "cell_type": "code",
   "execution_count": 12,
   "id": "09961793-69ec-412b-9bc9-223f4ff07005",
   "metadata": {},
   "outputs": [
    {
     "data": {
      "text/plain": [
       "0.3362691013424119"
      ]
     },
     "execution_count": 12,
     "metadata": {},
     "output_type": "execute_result"
    }
   ],
   "source": [
    "image2.std()"
   ]
  },
  {
   "cell_type": "markdown",
   "id": "7c9ecae0-5f2b-4030-9b66-4458bf1bb556",
   "metadata": {},
   "source": [
    "sont compl\u00e8tement \u00e9quivalents. Dans le dernier cas, en utilisant la notation par points, vous pourriez entendre dire que ```std()``` est une *m\u00e9thode* de ```image2```."
   ]
  },
  {
   "cell_type": "markdown",
   "id": "88bc1845-7952-487c-9a79-420c06ce84ee",
   "metadata": {
    "tags": []
   },
   "source": [
    "Enfin, nous pourrions vouloir examiner la distribution r\u00e9elle des valeurs des pixels.\n",
    "Pour cela, nous examinons l'[histogramme](https://fr.wikipedia.org/wiki/Histogramme) de l'image."
   ]
  },
  {
   "cell_type": "code",
   "execution_count": 13,
   "id": "477c333b-6da3-4215-af03-43c9468ed14f",
   "metadata": {
    "tags": []
   },
   "outputs": [],
   "source": [
    "number_of_bins = 10\n",
    "min_max = [0,1]\n",
    "histogram,bins = np.histogram(image2.ravel(),number_of_bins,min_max)\n"
   ]
  },
  {
   "cell_type": "code",
   "execution_count": 14,
   "id": "2f83dcd0-23bd-496c-a9ed-c24db201a095",
   "metadata": {
    "tags": []
   },
   "outputs": [
    {
     "data": {
      "image/png": "[encoded data removed]",
      "text/plain": [
       "<Figure size 640x480 with 1 Axes>"
      ]
     },
     "metadata": {},
     "output_type": "display_data"
    }
   ],
   "source": [
    "plt.hist(image2.ravel(), number_of_bins, min_max)\n",
    "plt.show()"
   ]
  },
  {
   "cell_type": "markdown",
   "id": "cedbe894-561a-4cab-9001-1410328c0aaf",
   "metadata": {},
   "source": [
    "## Exercice\n",
    "\n",
    "Dans le module ```numpy.random```, trouvez une fonction qui g\u00e9n\u00e8re un bruit de **Poisson** et cr\u00e9ez une image 4x9. Calculez sa moyenne et son \u00e9cart-type."
   ]
  },
  {
   "cell_type": "code",
   "execution_count": null,
   "id": "a6470339-1972-433d-92ad-a660403fa671",
   "metadata": {},
   "outputs": [],
   "source": []
  }
 ],
 "metadata": {
  "kernelspec": {
   "display_name": "Python 3 (ipykernel)",
   "language": "python",
   "name": "python3"
  },
  "language_info": {
   "codemirror_mode": {
    "name": "ipython",
    "version": 3
   },
   "file_extension": ".py",
   "mimetype": "text/x-python",
   "name": "python",
   "nbconvert_exporter": "python",
   "pygments_lexer": "ipython3",
   "version": "3.9.15"
  }
 },
 "nbformat": 4,
 "nbformat_minor": 5
}