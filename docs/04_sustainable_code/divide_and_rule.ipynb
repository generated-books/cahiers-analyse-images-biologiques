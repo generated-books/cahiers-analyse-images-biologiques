{
 "cells": [
  {
   "cell_type": "markdown",
   "id": "06e6b903-c670-4061-9559-eabca80a566d",
   "metadata": {},
   "source": [
    "# Diviser pour r\u00e9gner\n",
    "Parfois, les programmes deviennent tr\u00e8s longs et difficiles \u00e0 lire. On parle de [code spaghetti](https://en.wikipedia.org/wiki/Spaghetti_code). Une fa\u00e7on de rendre le code plus facile \u00e0 lire et \u00e0 maintenir est de le diviser en fonctions plus petites et de les utiliser simplement dans des flux de travail plus complexes. Le principe de conception logicielle s'appelle [Diviser pour r\u00e9gner](https://www.quora.com/What-is-divide-and-conquer-programming-strategy)."
   ]
  },
  {
   "cell_type": "code",
   "execution_count": 1,
   "id": "484f7356-0703-416e-88fc-cb760f325e3f",
   "metadata": {},
   "outputs": [],
   "source": [
    "from skimage.io import imread\n",
    "from skimage.morphology import white_tophat, disk\n",
    "from skimage.filters import gaussian, threshold_otsu\n",
    "from skimage.measure import label, regionprops_table\n",
    "import pandas as pd\n",
    "import numpy as np"
   ]
  },
  {
   "cell_type": "code",
   "execution_count": 2,
   "id": "4ae5ecf1-322d-4555-a0af-45dba03a11bb",
   "metadata": {},
   "outputs": [
    {
     "data": {
      "text/plain": [
       "17136.90322580645"
      ]
     },
     "execution_count": 2,
     "metadata": {},
     "output_type": "execute_result"
    }
   ],
   "source": [
    "image = imread(\"../../data/blobs.tif\")\n",
    "footprint = disk(15)\n",
    "background_subtracted = white_tophat(image, \n",
    "                                     footprint=footprint)\n",
    "particle_radius = 5\n",
    "denoised = gaussian(background_subtracted, \n",
    "                    sigma=particle_radius)\n",
    "binary = denoised > threshold_otsu(denoised)\n",
    "labels = label(binary)\n",
    "requested_measurements = [\"label\", \"area\", \"mean_intensity\"]\n",
    "regionprops = regionprops_table(image, \n",
    "                                labels, \n",
    "                                properties=requested_measurements)\n",
    "table = pd.DataFrame(regionprops)\n",
    "mean_total_intensity = np.mean(table[\"area\"] * table[\"mean_intensity\"])\n",
    "mean_total_intensity"
   ]
  },
  {
   "cell_type": "markdown",
   "id": "27e898db-d8b5-4886-9182-3a55ba24e44a",
   "metadata": {},
   "source": [
    "Une fa\u00e7on courante et facile de rendre ce code plus lisible est de le diviser en sections qui commencent chacune par un commentaire."
   ]
  },
  {
   "cell_type": "code",
   "execution_count": 3,
   "id": "342007b6-dc86-41cb-b3de-7a23a1f57f57",
   "metadata": {},
   "outputs": [
    {
     "data": {
      "text/plain": [
       "17136.90322580645"
      ]
     },
     "execution_count": 3,
     "metadata": {},
     "output_type": "execute_result"
    }
   ],
   "source": [
    "# configuration\n",
    "file_to_analyze = \"../../data/blobs.tif\"\n",
    "background_subtraction_radius = 15\n",
    "particle_radius = 5\n",
    "requested_measurements = [\"area\", \"mean_intensity\"]\n",
    "\n",
    "# load data\n",
    "image = imread(file_to_analyze)\n",
    "\n",
    "# preprocess image\n",
    "footprint = disk(background_subtraction_radius)\n",
    "background_subtracted = white_tophat(image, \n",
    "                                     footprint=footprint)\n",
    "denoised = gaussian(background_subtracted, \n",
    "                    sigma=particle_radius)\n",
    "\n",
    "# segment image\n",
    "binary = denoised > threshold_otsu(denoised)\n",
    "labels = label(binary)\n",
    "\n",
    "# extract features\n",
    "regionprops = regionprops_table(image, \n",
    "                                labels, \n",
    "                                properties=requested_measurements)\n",
    "table = pd.DataFrame(regionprops)\n",
    "\n",
    "# descriptive statistics\n",
    "mean_total_intensity = np.mean(table[\"area\"] * table[\"mean_intensity\"])\n",
    "mean_total_intensity"
   ]
  },
  {
   "cell_type": "markdown",
   "id": "332bb3d0-88c3-465b-a60f-9dd2449dd959",
   "metadata": {},
   "source": [
    "Il serait plus professionnel de placer tout ce code dans des sous-routines significatives et de les appeler \u00e0 partir d'une fonction centrale."
   ]
  },
  {
   "cell_type": "code",
   "execution_count": 4,
   "id": "28e3f126-622b-47ed-b03e-90a6ae6e333c",
   "metadata": {},
   "outputs": [],
   "source": [
    "# reusable functions\n",
    "def preprocess_image(image, background_subtraction_radius, particle_radius):\n",
    "    \"\"\"Apply background removal and denoising\"\"\"\n",
    "    footprint = disk(background_subtraction_radius)\n",
    "    background_subtracted = white_tophat(image, footprint=footprint)\n",
    "    denoised = gaussian(background_subtracted, sigma=particle_radius)\n",
    "    return denoised\n",
    "\n",
    "def segment_image(image):\n",
    "    \"\"\"Apply thresholding and connected component analysis\"\"\"\n",
    "    binary = image > threshold_otsu(image)\n",
    "    labels = label(binary)\n",
    "    return labels\n",
    "\n",
    "def extract_features(image, labels, requested_measurements):\n",
    "    \"\"\"Measure specified properties\"\"\"\n",
    "    regionprops = regionprops_table(image, \n",
    "                                    labels, \n",
    "                                    properties=requested_measurements)\n",
    "    table = pd.DataFrame(regionprops)\n",
    "    return table"
   ]
  },
  {
   "cell_type": "markdown",
   "id": "b4676135-ec60-4d49-accc-5beab2d94449",
   "metadata": {},
   "source": [
    "Apr\u00e8s avoir regroup\u00e9 les \u00e9tapes de traitement dans des fonctions, nous pouvons les appeler \u00e0 partir d'une fonction principale. Cette fonction pourra ensuite \u00eatre r\u00e9utilis\u00e9e pour appliquer la m\u00eame proc\u00e9dure \u00e0 toutes les images d'un dossier. Elle sert \u00e9galement d'index, d'aper\u00e7u du flux de travail de traitement d'image. En lisant simplement cette fonction, nous connaissons toutes les \u00e9tapes de traitement et leurs param\u00e8tres."
   ]
  },
  {
   "cell_type": "code",
   "execution_count": 5,
   "id": "6f77d663-764b-45de-8668-600d8465561b",
   "metadata": {},
   "outputs": [],
   "source": [
    "def analyse_average_total_intensity(filename, \n",
    "                                    background_subtraction_radius = 15, \n",
    "                                    particle_radius = 5):\n",
    "    \"\"\"Load an image, segment objects and measure their mean total intensity.\"\"\"\n",
    "    image = imread(filename)\n",
    "    denoised = preprocess_image(image, \n",
    "                                background_subtraction_radius, \n",
    "                                particle_radius)\n",
    "    labels = segment_image(denoised)\n",
    "    requested_measurements = [\"area\", \"mean_intensity\"]\n",
    "    table = extract_features(image, \n",
    "                             labels, \n",
    "                             requested_measurements)\n",
    "\n",
    "    # descriptive statistics\n",
    "    mean_total_intensity = np.mean(table[\"area\"] * table[\"mean_intensity\"])\n",
    "    \n",
    "    return mean_total_intensity"
   ]
  },
  {
   "cell_type": "code",
   "execution_count": 6,
   "id": "4ed16cc5-8517-413f-84e8-3498224b5c46",
   "metadata": {},
   "outputs": [],
   "source": [
    "# configuration\n",
    "file_to_analyze = \"../../data/blobs.tif\""
   ]
  },
  {
   "cell_type": "markdown",
   "id": "1f1fa453-cedd-4c9c-9708-9937b49b72c0",
   "metadata": {},
   "source": [
    "Cette fonction centrale peut alors \u00eatre lue facilement ; elle ne comporte que 6 lignes de code"
   ]
  },
  {
   "cell_type": "code",
   "execution_count": 7,
   "id": "a076194f-8917-4cd4-93d8-eb81cb02fea7",
   "metadata": {},
   "outputs": [
    {
     "data": {
      "text/plain": [
       "17136.90322580645"
      ]
     },
     "execution_count": 7,
     "metadata": {},
     "output_type": "execute_result"
    }
   ],
   "source": [
    "analyse_average_total_intensity(file_to_analyze)"
   ]
  },
  {
   "cell_type": "markdown",
   "id": "b66687a9-71c4-4d82-a4ac-678bb7eb587a",
   "metadata": {},
   "source": [
    "Cette fonction peut ensuite \u00eatre r\u00e9utilis\u00e9e pour d'autres fichiers image."
   ]
  },
  {
   "cell_type": "code",
   "execution_count": 8,
   "id": "a30f8c95-340c-4321-a40e-176bda977409",
   "metadata": {},
   "outputs": [
    {
     "data": {
      "text/plain": [
       "884.2620087336245"
      ]
     },
     "execution_count": 8,
     "metadata": {},
     "output_type": "execute_result"
    }
   ],
   "source": [
    "analyse_average_total_intensity(\"../../data/BBBC007_batch/20P1_POS0005_D_1UL.tif\")"
   ]
  },
  {
   "cell_type": "code",
   "execution_count": null,
   "id": "5a5ff78b-b1ba-48c1-8214-0f7a2c6b6641",
   "metadata": {},
   "outputs": [],
   "source": []
  }
 ],
 "metadata": {
  "kernelspec": {
   "display_name": "Python 3 (ipykernel)",
   "language": "python",
   "name": "python3"
  },
  "language_info": {
   "codemirror_mode": {
    "name": "ipython",
    "version": 3
   },
   "file_extension": ".py",
   "mimetype": "text/x-python",
   "name": "python",
   "nbconvert_exporter": "python",
   "pygments_lexer": "ipython3",
   "version": "3.9.15"
  }
 },
 "nbformat": 4,
 "nbformat_minor": 5
}