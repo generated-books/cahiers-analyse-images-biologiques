{
 "cells": [
  {
   "cell_type": "markdown",
   "id": "3b28cebb-8400-491d-bb63-88d634749a05",
   "metadata": {},
   "source": [
    "# Gardez \u00e7a court et simple\n",
    "Python poss\u00e8de des fonctionnalit\u00e9s incroyables qui nous permettent d'\u00e9crire du code du 21e si\u00e8cle. Par exemple, nous pouvons rassembler des fonctions et des param\u00e8tres dans des listes et les appeler \u00e0 partir d'une boucle. Bien que ce soit super cool d'un point de vue programmation, cela pourrait ne pas \u00eatre facile \u00e0 lire comme code. La recommandation est : [Gardez \u00e7a court et simple (KISS)](https://en.wikipedia.org/wiki/KISS_principle)."
   ]
  },
  {
   "cell_type": "code",
   "execution_count": null,
   "id": "76c73ee3-d959-4f36-b86d-1e182d4f3da9",
   "metadata": {},
   "outputs": [],
   "source": [
    "import numpy as np\n",
    "from skimage.io import imread, imshow\n",
    "from napari_segment_blobs_and_things_with_membranes import threshold_otsu, gaussian_blur, label"
   ]
  },
  {
   "cell_type": "markdown",
   "id": "a0fa0f51-862e-4c6b-8197-368d84714eec",
   "metadata": {},
   "source": [
    "## Exercice\n",
    "\u00c0 titre d'exemple, il y a deux sections de code ci-dessous. Sans ex\u00e9cuter le code - pensez-vous que les deux font la m\u00eame chose ?"
   ]
  },
  {
   "cell_type": "code",
   "execution_count": null,
   "id": "ddb977fa-133a-4782-9101-078c5475b0a4",
   "metadata": {},
   "outputs": [],
   "source": [
    "image = imread(\"../../data/blobs.tif\")\n",
    "\n",
    "# define a list of functions and a corresponding list of arguments\n",
    "functions = [gaussian_blur, threshold_otsu, label]\n",
    "argument_lists = [[.5], [], []]\n",
    "\n",
    "# go through functions and argument lists pair-wise\n",
    "for function, argument_list in zip(functions, argument_lists):\n",
    "    # execute function with given arguments\n",
    "    image = function(image, *argument_list)\n",
    "\n",
    "result1 = image\n",
    "imshow(result1)"
   ]
  },
  {
   "cell_type": "code",
   "execution_count": null,
   "id": "b32eb680-6701-4008-970e-de2d07dc1e96",
   "metadata": {},
   "outputs": [],
   "source": [
    "image = imread(\"../../data/blobs.tif\")\n",
    "\n",
    "blurred = gaussian_blur(image, 5)\n",
    "binary = threshold_otsu(blurred)\n",
    "labels = label(binary)\n",
    "\n",
    "result2 = labels\n",
    "\n",
    "imshow(result2)"
   ]
  },
  {
   "cell_type": "markdown",
   "id": "32718eea-2ac4-4387-a774-e35a82f31720",
   "metadata": {},
   "source": [
    "Si vous n'\u00eates pas s\u00fbr, vous pouvez \u00e9galement v\u00e9rifier directement si les r\u00e9sultats sont \u00e9gaux :"
   ]
  },
  {
   "cell_type": "code",
   "execution_count": null,
   "id": "6af1d143-cc22-48a4-b74e-64870a2a6570",
   "metadata": {},
   "outputs": [],
   "source": [
    "np.all(result1 == result2) "
   ]
  }
 ],
 "metadata": {
  "kernelspec": {
   "display_name": "Python 3 (ipykernel)",
   "language": "python",
   "name": "python3"
  },
  "language_info": {
   "codemirror_mode": {
    "name": "ipython",
    "version": 3
   },
   "file_extension": ".py",
   "mimetype": "text/x-python",
   "name": "python",
   "nbconvert_exporter": "python",
   "pygments_lexer": "ipython3",
   "version": "3.9.15"
  }
 },
 "nbformat": 4,
 "nbformat_minor": 5
}