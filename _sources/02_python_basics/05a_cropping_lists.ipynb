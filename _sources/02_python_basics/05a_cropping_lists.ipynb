{
 "cells": [
  {
   "cell_type": "markdown",
   "id": "2bac9780-3f38-4f74-9a22-577e2a4c6643",
   "metadata": {},
   "source": [
    "# D\u00e9coupage des listes\n",
    "Une t\u00e2che courante en Python consiste \u00e0 d\u00e9couper des parties de listes et de tuples, par exemple pour acc\u00e9der \u00e0 des parties sp\u00e9cifiques des listes.\n",
    "\n",
    "Commen\u00e7ons par une liste de nombres"
   ]
  },
  {
   "cell_type": "code",
   "execution_count": 1,
   "id": "24617c60-0f20-4d12-ae69-b99630fbd919",
   "metadata": {},
   "outputs": [],
   "source": [
    "data = [34, 0, 65, 23, 51, 9, 50, 78, 34, 100]"
   ]
  },
  {
   "cell_type": "markdown",
   "id": "21077e88-518e-4f68-94b8-2d77e87b4058",
   "metadata": {},
   "source": [
    "Nous pouvons d\u00e9terminer combien d'\u00e9l\u00e9ments se trouvent dans `data` :"
   ]
  },
  {
   "cell_type": "code",
   "execution_count": 2,
   "id": "c4a74ad5-2503-4644-8dae-58b6cc80bd07",
   "metadata": {},
   "outputs": [
    {
     "data": {
      "text/plain": [
       "10"
      ]
     },
     "execution_count": 2,
     "metadata": {},
     "output_type": "execute_result"
    }
   ],
   "source": [
    "len(data)"
   ]
  },
  {
   "cell_type": "markdown",
   "id": "f19975f2-66ae-40fe-a129-baa8a5c3271e",
   "metadata": {},
   "source": [
    "Comme montr\u00e9 pr\u00e9c\u00e9demment, nous pouvons acc\u00e9der \u00e0 des \u00e9l\u00e9ments sp\u00e9cifiques en passant un index. Le comptage de l'index des \u00e9l\u00e9ments commence \u00e0 0."
   ]
  },
  {
   "cell_type": "code",
   "execution_count": 3,
   "id": "aeed7787-440f-4e82-aacc-9f42b2489c5b",
   "metadata": {},
   "outputs": [
    {
     "data": {
      "text/plain": [
       "34"
      ]
     },
     "execution_count": 3,
     "metadata": {},
     "output_type": "execute_result"
    }
   ],
   "source": [
    "data[0]"
   ]
  },
  {
   "cell_type": "code",
   "execution_count": 4,
   "id": "45e19fb5-5f11-405a-8cbb-2a4f8e7d1789",
   "metadata": {},
   "outputs": [
    {
     "data": {
      "text/plain": [
       "0"
      ]
     },
     "execution_count": 4,
     "metadata": {},
     "output_type": "execute_result"
    }
   ],
   "source": [
    "data[1]"
   ]
  },
  {
   "cell_type": "markdown",
   "id": "59396d59-dedd-45ff-b7b0-5bd3f9221c2d",
   "metadata": {},
   "source": [
    "Nous pouvons \u00e9galement passer des indices n\u00e9gatifs. Cela permettra d'acc\u00e9der aux \u00e9l\u00e9ments \u00e0 partir de la fin de la liste. Le dernier \u00e9l\u00e9ment a l'index -1."
   ]
  },
  {
   "cell_type": "code",
   "execution_count": 5,
   "id": "d4a46ce7-8956-477f-9279-84e6a23b973e",
   "metadata": {},
   "outputs": [
    {
     "data": {
      "text/plain": [
       "100"
      ]
     },
     "execution_count": 5,
     "metadata": {},
     "output_type": "execute_result"
    }
   ],
   "source": [
    "data[-1]"
   ]
  },
  {
   "cell_type": "code",
   "execution_count": 6,
   "id": "b3498523-4dde-4054-83e0-f9c86c6a23c2",
   "metadata": {},
   "outputs": [
    {
     "data": {
      "text/plain": [
       "34"
      ]
     },
     "execution_count": 6,
     "metadata": {},
     "output_type": "execute_result"
    }
   ],
   "source": [
    "data[-2]"
   ]
  },
  {
   "cell_type": "markdown",
   "id": "3d7b3fa8-fe48-44ca-9397-ed009c8f7683",
   "metadata": {},
   "source": [
    "## S\u00e9lection de plages dans les listes\n",
    "Nous pouvons \u00e9galement g\u00e9n\u00e9rer une nouvelle liste contenant les trois premiers \u00e9l\u00e9ments. Pour cela, nous passons une plage sous la forme `[d\u00e9but:fin]`. Le premier \u00e9l\u00e9ment a l'index `d\u00e9but` et le dernier \u00e9l\u00e9ment de la nouvelle liste sera juste avant `fin`."
   ]
  },
  {
   "cell_type": "code",
   "execution_count": 7,
   "id": "d066c8a8-eea4-4983-981d-86379fc370e0",
   "metadata": {},
   "outputs": [
    {
     "data": {
      "text/plain": [
       "[34, 0, 65, 23, 51, 9, 50, 78, 34, 100]"
      ]
     },
     "execution_count": 7,
     "metadata": {},
     "output_type": "execute_result"
    }
   ],
   "source": [
    "data"
   ]
  },
  {
   "cell_type": "code",
   "execution_count": 8,
   "id": "eac82998-e516-4013-b791-e371d4281618",
   "metadata": {},
   "outputs": [
    {
     "data": {
      "text/plain": [
       "[34, 0]"
      ]
     },
     "execution_count": 8,
     "metadata": {},
     "output_type": "execute_result"
    }
   ],
   "source": [
    "data[0:2]"
   ]
  },
  {
   "cell_type": "code",
   "execution_count": 9,
   "id": "7d950d4f-77bf-4c7c-9ac8-b6f1b8c0468f",
   "metadata": {},
   "outputs": [
    {
     "data": {
      "text/plain": [
       "[34, 0, 65]"
      ]
     },
     "execution_count": 9,
     "metadata": {},
     "output_type": "execute_result"
    }
   ],
   "source": [
    "data[0:3]"
   ]
  },
  {
   "cell_type": "code",
   "execution_count": 10,
   "id": "34a11701-eef3-4b1a-8a7d-9523a1aa8a72",
   "metadata": {},
   "outputs": [
    {
     "data": {
      "text/plain": [
       "[0]"
      ]
     },
     "execution_count": 10,
     "metadata": {},
     "output_type": "execute_result"
    }
   ],
   "source": [
    "data[1:2]"
   ]
  },
  {
   "cell_type": "markdown",
   "id": "82a94b37-d7bc-43cf-a15f-e8f8d1df18b5",
   "metadata": {},
   "source": [
    "De plus, nous n'avons pas besoin de sp\u00e9cifier ni `d\u00e9but` ni `fin` si nous voulons s\u00e9lectionner toutes les entr\u00e9es d'une liste depuis le d\u00e9but ou jusqu'\u00e0 la fin."
   ]
  },
  {
   "cell_type": "code",
   "execution_count": 11,
   "id": "cbd78a00-ef91-4dea-b033-89c83d8f9e76",
   "metadata": {},
   "outputs": [
    {
     "data": {
      "text/plain": [
       "[34, 0, 65, 23, 51, 9, 50, 78, 34, 100]"
      ]
     },
     "execution_count": 11,
     "metadata": {},
     "output_type": "execute_result"
    }
   ],
   "source": [
    "data"
   ]
  },
  {
   "cell_type": "code",
   "execution_count": 12,
   "id": "18ed61b1-bf09-47a9-a875-89eac6955a20",
   "metadata": {},
   "outputs": [
    {
     "data": {
      "text/plain": [
       "[34, 0]"
      ]
     },
     "execution_count": 12,
     "metadata": {},
     "output_type": "execute_result"
    }
   ],
   "source": [
    "data[:2]"
   ]
  },
  {
   "cell_type": "code",
   "execution_count": 13,
   "id": "cfeaca31-83a9-4710-b565-8a6250166989",
   "metadata": {},
   "outputs": [
    {
     "data": {
      "text/plain": [
       "[34, 0, 65]"
      ]
     },
     "execution_count": 13,
     "metadata": {},
     "output_type": "execute_result"
    }
   ],
   "source": [
    "data[:3]"
   ]
  },
  {
   "cell_type": "code",
   "execution_count": 14,
   "id": "34c44699-364a-4697-9341-e0583cc7830e",
   "metadata": {},
   "outputs": [
    {
     "data": {
      "text/plain": [
       "[65, 23, 51, 9, 50, 78, 34, 100]"
      ]
     },
     "execution_count": 14,
     "metadata": {},
     "output_type": "execute_result"
    }
   ],
   "source": [
    "data[2:]"
   ]
  },
  {
   "cell_type": "code",
   "execution_count": 15,
   "id": "d88f089f-c23e-4e68-b788-925f122ebc9d",
   "metadata": {},
   "outputs": [
    {
     "data": {
      "text/plain": [
       "[23, 51, 9, 50, 78, 34, 100]"
      ]
     },
     "execution_count": 15,
     "metadata": {},
     "output_type": "execute_result"
    }
   ],
   "source": [
    "data[3:]"
   ]
  },
  {
   "cell_type": "markdown",
   "id": "917d4bdd-c547-4e29-92da-3db5f097be05",
   "metadata": {},
   "source": [
    "Cela fonctionne \u00e9galement avec des indices n\u00e9gatifs"
   ]
  },
  {
   "cell_type": "code",
   "execution_count": 16,
   "id": "e40e6e8a-1cd6-4c8d-a1d1-c1230d93671c",
   "metadata": {},
   "outputs": [
    {
     "data": {
      "text/plain": [
       "[34, 100]"
      ]
     },
     "execution_count": 16,
     "metadata": {},
     "output_type": "execute_result"
    }
   ],
   "source": [
    "data[-2:]"
   ]
  },
  {
   "cell_type": "markdown",
   "id": "2d3fc7e4-c8d3-43a4-99c0-07fb7245e7ba",
   "metadata": {},
   "source": [
    "## Parcourir les entr\u00e9es des listes par pas\n",
    "Le `:` peut \u00e9galement \u00eatre utilis\u00e9 pour fournir une longueur de pas en utilisant la syntaxe `[d\u00e9but:fin:pas]`."
   ]
  },
  {
   "cell_type": "code",
   "execution_count": 17,
   "id": "d065f055-233b-4d79-8cc6-c6a4c4430409",
   "metadata": {},
   "outputs": [
    {
     "data": {
      "text/plain": [
       "[34, 0, 65, 23, 51, 9, 50, 78, 34, 100]"
      ]
     },
     "execution_count": 17,
     "metadata": {},
     "output_type": "execute_result"
    }
   ],
   "source": [
    "data"
   ]
  },
  {
   "cell_type": "markdown",
   "id": "4102c548-c0d1-4bda-a389-fa1f4512c2ab",
   "metadata": {},
   "source": [
    "Par exemple, nous pouvons s\u00e9lectionner un \u00e9l\u00e9ment sur deux en commen\u00e7ant par le premier :"
   ]
  },
  {
   "cell_type": "code",
   "execution_count": 18,
   "id": "bdc30d02-ea6c-4979-b995-b79c022838f4",
   "metadata": {},
   "outputs": [
    {
     "data": {
      "text/plain": [
       "[34, 65, 51, 50, 34]"
      ]
     },
     "execution_count": 18,
     "metadata": {},
     "output_type": "execute_result"
    }
   ],
   "source": [
    "data[0:10:2]"
   ]
  },
  {
   "cell_type": "code",
   "execution_count": 19,
   "id": "3c6f8f4e-e8eb-45c6-9123-596460ff416d",
   "metadata": {},
   "outputs": [
    {
     "data": {
      "text/plain": [
       "[34, 65, 51, 50, 34]"
      ]
     },
     "execution_count": 19,
     "metadata": {},
     "output_type": "execute_result"
    }
   ],
   "source": [
    "data[::2]"
   ]
  },
  {
   "cell_type": "markdown",
   "id": "e8138c6e-5aa8-4b1c-8e27-e02195519992",
   "metadata": {},
   "source": [
    "Nous pouvons aussi commencer par le deuxi\u00e8me \u00e9l\u00e9ment (index 1) :"
   ]
  },
  {
   "cell_type": "code",
   "execution_count": 20,
   "id": "56271034-0907-45fa-8e13-24c72fd2f4eb",
   "metadata": {},
   "outputs": [
    {
     "data": {
      "text/plain": [
       "[0, 23, 9, 78, 100]"
      ]
     },
     "execution_count": 20,
     "metadata": {},
     "output_type": "execute_result"
    }
   ],
   "source": [
    "data[1::2]"
   ]
  },
  {
   "cell_type": "markdown",
   "id": "c15bacf5-69b7-44d2-b9c7-ab6a696ca985",
   "metadata": {},
   "source": [
    "## Tuples\n",
    "Tous les concepts introduits ci-dessus fonctionnent \u00e9galement avec les tuples"
   ]
  },
  {
   "cell_type": "code",
   "execution_count": 21,
   "id": "34acbd72-3b4d-4abd-bf3c-5ffd79866f77",
   "metadata": {},
   "outputs": [
    {
     "data": {
      "text/plain": [
       "(34, 0, 65, 23, 51, 9, 50, 78, 34, 100)"
      ]
     },
     "execution_count": 21,
     "metadata": {},
     "output_type": "execute_result"
    }
   ],
   "source": [
    "immutable_data = tuple(data)\n",
    "immutable_data"
   ]
  },
  {
   "cell_type": "code",
   "execution_count": 22,
   "id": "861cc342-f201-45df-b652-8a1046094859",
   "metadata": {},
   "outputs": [
    {
     "data": {
      "text/plain": [
       "(34, 0, 65, 23, 51)"
      ]
     },
     "execution_count": 22,
     "metadata": {},
     "output_type": "execute_result"
    }
   ],
   "source": [
    "immutable_data[:5]"
   ]
  },
  {
   "cell_type": "markdown",
   "id": "8e1f7ae9-c81b-4216-94a8-528a50dbe4f4",
   "metadata": {},
   "source": [
    "## Exercice\n",
    "Veuillez s\u00e9lectionner les trois nombres 23, 9 et 78 de `data` en utilisant une seule commande Python similaire aux commandes montr\u00e9es ci-dessus."
   ]
  },
  {
   "cell_type": "code",
   "execution_count": null,
   "id": "24759c70-7de0-4b3d-bbb1-b1332585bf49",
   "metadata": {},
   "outputs": [],
   "source": []
  }
 ],
 "metadata": {
  "kernelspec": {
   "display_name": "Python 3 (ipykernel)",
   "language": "python",
   "name": "python3"
  },
  "language_info": {
   "codemirror_mode": {
    "name": "ipython",
    "version": 3
   },
   "file_extension": ".py",
   "mimetype": "text/x-python",
   "name": "python",
   "nbconvert_exporter": "python",
   "pygments_lexer": "ipython3",
   "version": "3.9.0"
  }
 },
 "nbformat": 4,
 "nbformat_minor": 5
}