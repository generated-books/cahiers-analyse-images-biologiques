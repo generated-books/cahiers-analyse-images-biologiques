{
 "cells": [
  {
   "cell_type": "markdown",
   "id": "2bac9780-3f38-4f74-9a22-577e2a4c6643",
   "metadata": {},
   "source": [
    "# Trier des listes\n",
    "Lorsqu'on travaille avec des formes simples de donn\u00e9es, par exemple une liste de mesures, il peut \u00eatre utile de les trier. Avec cela, nous pourrions par exemple acc\u00e9der rapidement aux plus petits nombres d'une liste.\n",
    "\n",
    "Commen\u00e7ons \u00e0 nouveau avec une liste de nombres"
   ]
  },
  {
   "cell_type": "code",
   "execution_count": 1,
   "id": "24617c60-0f20-4d12-ae69-b99630fbd919",
   "metadata": {},
   "outputs": [
    {
     "data": {
      "text/plain": [
       "[34, 0, 65, 23, 51, 9, 50, 78, 34, 100]"
      ]
     },
     "execution_count": 1,
     "metadata": {},
     "output_type": "execute_result"
    }
   ],
   "source": [
    "data = [34, 0, 65, 23, 51, 9, 50, 78, 34, 100]\n",
    "data"
   ]
  },
  {
   "cell_type": "markdown",
   "id": "21077e88-518e-4f68-94b8-2d77e87b4058",
   "metadata": {},
   "source": [
    "Il existe l'op\u00e9ration [sort](https://docs.python.org/3/library/stdtypes.html?highlight=sort#list.sort), qui modifie r\u00e9ellement une liste :"
   ]
  },
  {
   "cell_type": "code",
   "execution_count": 2,
   "id": "b6ea27f0-1a39-4750-be11-f32302f9221a",
   "metadata": {},
   "outputs": [
    {
     "data": {
      "text/plain": [
       "[0, 9, 23, 34, 34, 50, 51, 65, 78, 100]"
      ]
     },
     "execution_count": 2,
     "metadata": {},
     "output_type": "execute_result"
    }
   ],
   "source": [
    "data.sort()\n",
    "data"
   ]
  },
  {
   "cell_type": "markdown",
   "id": "047fd778-15dc-4d31-8029-f403ad4f555a",
   "metadata": {},
   "source": [
    "Par cons\u00e9quent, nous devrions ex\u00e9cuter les cellules du notebook Jupyter dans l'ordre car la variable `data` est ensuite modifi\u00e9e (nous devrions de toute fa\u00e7on le faire).\n",
    "\n",
    "Apr\u00e8s le tri, cela nous donnera les trois plus petites entr\u00e9es de la liste :"
   ]
  },
  {
   "cell_type": "code",
   "execution_count": 3,
   "id": "37a90146-5349-483f-a59f-65a085e11210",
   "metadata": {},
   "outputs": [
    {
     "data": {
      "text/plain": [
       "[0, 9, 23]"
      ]
     },
     "execution_count": 3,
     "metadata": {},
     "output_type": "execute_result"
    }
   ],
   "source": [
    "data[:3]"
   ]
  },
  {
   "cell_type": "markdown",
   "id": "ed4fa049-f856-4dce-9611-bfd15aea4b0f",
   "metadata": {},
   "source": [
    "Et ceci nous donnera les trois plus grands nombres :"
   ]
  },
  {
   "cell_type": "code",
   "execution_count": 4,
   "id": "a7cf8c3e-6728-4b2a-aa55-09fb813ca566",
   "metadata": {},
   "outputs": [
    {
     "data": {
      "text/plain": [
       "[65, 78, 100]"
      ]
     },
     "execution_count": 4,
     "metadata": {},
     "output_type": "execute_result"
    }
   ],
   "source": [
    "data[-3:]"
   ]
  },
  {
   "cell_type": "markdown",
   "id": "59652f9a-e7f8-430a-af79-80d91a902bef",
   "metadata": {},
   "source": [
    "## Exercice\n",
    "Trouvez la [m\u00e9diane](https://fr.wikipedia.org/wiki/M%C3%A9diane_(statistiques)) de ces deux listes de nombres :"
   ]
  },
  {
   "cell_type": "code",
   "execution_count": 5,
   "id": "50f4cac1-b627-45af-a966-908e09812cfe",
   "metadata": {},
   "outputs": [],
   "source": [
    "data1 = [6, 4, 3, 4, 8, 10]"
   ]
  },
  {
   "cell_type": "code",
   "execution_count": 6,
   "id": "6b3c6eec-c6af-451a-bf3f-098463166531",
   "metadata": {},
   "outputs": [],
   "source": [
    "data2 = [6, 4, 3, 4, 8, 10, 8]"
   ]
  },
  {
   "cell_type": "code",
   "execution_count": null,
   "id": "3cec52eb-8d46-4431-8f28-387e98e8091c",
   "metadata": {},
   "outputs": [],
   "source": []
  }
 ],
 "metadata": {
  "kernelspec": {
   "display_name": "Python 3 (ipykernel)",
   "language": "python",
   "name": "python3"
  },
  "language_info": {
   "codemirror_mode": {
    "name": "ipython",
    "version": 3
   },
   "file_extension": ".py",
   "mimetype": "text/x-python",
   "name": "python",
   "nbconvert_exporter": "python",
   "pygments_lexer": "ipython3",
   "version": "3.9.0"
  }
 },
 "nbformat": 4,
 "nbformat_minor": 5
}