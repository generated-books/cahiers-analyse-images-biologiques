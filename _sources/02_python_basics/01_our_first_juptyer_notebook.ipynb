{
 "cells": [
  {
   "cell_type": "markdown",
   "metadata": {
    "slideshow": {
     "slide_type": "slide"
    }
   },
   "source": [
    "# Code Python dans les notebooks Jupyter\n",
    "Le code Python peut \u00eatre \u00e9crit dans des fichiers \".py\", qui peuvent \u00eatre ex\u00e9cut\u00e9s depuis la ligne de commande. De plus, \u00e0 des fins acad\u00e9miques, les [notebooks Jupyter](https://jupyter-notebook.readthedocs.io/en/stable/) sont souvent utilis\u00e9s pour documenter ce que fait le code et ajouter des explications suppl\u00e9mentaires et des liens vers des ressources.\n",
    "\n",
    "Voir aussi\n",
    "* [Documentation Python 3](https://docs.python.org/3)\n",
    "* [Fondamentaux Python par les Carpentries](https://swcarpentry.github.io/python-novice-inflammation/)\n",
    "* [Tutoriels Python pour le traitement d'images et l'apprentissage automatique par Digital Sreeni](https://www.youtube.com/playlist?list=PLZsOBAyNTZwYHBIlu_PUO19M7aHMgwBJr)\n",
    "\n",
    "Pour \u00e9crire notre premier petit programme python, nous tapons dans la cellule de code du notebook Jupyter ci-dessous. Vous pouvez double-cliquer dans cette cellule, modifier le code et l'ex\u00e9cuter en appuyant sur SHIFT+ENTER :"
   ]
  },
  {
   "cell_type": "code",
   "execution_count": 2,
   "metadata": {},
   "outputs": [
    {
     "name": "stdout",
     "output_type": "stream",
     "text": [
      "Hello world\n"
     ]
    }
   ],
   "source": [
    "print(\"Hello world\")"
   ]
  },
  {
   "cell_type": "markdown",
   "metadata": {},
   "source": [
    "* Lorsque vous travaillez avec des notebooks Jupyter, \u00e9videmment SHIFT-ENTER est **le** raccourci que les gens utilisent tout le temps.\n",
    "* Si vous voulez \"quitter\" une cellule sans l'ex\u00e9cuter, vous pouvez aussi appuyer sur ESCAPE.\n",
    "* Vous pouvez ajouter une nouvelle cellule **a**u-dessus de la cellule actuelle en appuyant sur A et **e**n-dessous en appuyant sur B.\n",
    "* Vous pouvez supprimer des cellules en appuyant sur D.\n",
    "\n",
    "Il existe d'autres raccourcis. Vous pouvez tous les voir dans le menu ci-dessus Aide > Raccourcis clavier ou en appuyant sur H.\n",
    "\n",
    "Essayez-le !"
   ]
  },
  {
   "cell_type": "code",
   "execution_count": null,
   "metadata": {},
   "outputs": [],
   "source": []
  },
  {
   "cell_type": "code",
   "execution_count": null,
   "metadata": {},
   "outputs": [],
   "source": []
  },
  {
   "cell_type": "code",
   "execution_count": null,
   "metadata": {},
   "outputs": [],
   "source": []
  },
  {
   "cell_type": "markdown",
   "metadata": {
    "slideshow": {
     "slide_type": "slide"
    }
   },
   "source": [
    "## Documentation Markdown dans les notebooks Jupyter\n",
    "Markdown est un langage de codage pour d\u00e9crire le **formatage** ~du~ *texte*. Pour voir le code markdown qui d\u00e9crit ce texte, double-cliquez sur cette cellule dans votre notebook Jupyter. Appuyez sur SHIFT+ENTER pour revenir au mode de visualisation.\n",
    "\n",
    "* Point \u00e0 puces\n",
    "* Plus de points \u00e0 puces\n",
    "  * Points \u00e0 puces plus profonds\n",
    "\n",
    "1. Entr\u00e9e de liste\n",
    "2. Une autre entr\u00e9e de liste\n",
    "4. Plus d'entr\u00e9es de liste\n",
    "8. [Aide-m\u00e9moire Markdown](https://github.com/adam-p/markdown-here/wiki/Markdown-Cheatsheet)"
   ]
  },
  {
   "cell_type": "markdown",
   "metadata": {},
   "source": [
    "# Exercice\n",
    "Ajoutez une nouvelle cellule de code python ci-dessous et utilisez la commande `print` pour imprimer votre nom."
   ]
  }
 ],
 "metadata": {
  "kernelspec": {
   "display_name": "Python 3 (ipykernel)",
   "language": "python",
   "name": "python3"
  },
  "language_info": {
   "codemirror_mode": {
    "name": "ipython",
    "version": 3
   },
   "file_extension": ".py",
   "mimetype": "text/x-python",
   "name": "python",
   "nbconvert_exporter": "python",
   "pygments_lexer": "ipython3",
   "version": "3.9.0"
  }
 },
 "nbformat": 4,
 "nbformat_minor": 4
}