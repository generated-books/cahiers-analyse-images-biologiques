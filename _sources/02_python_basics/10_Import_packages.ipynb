{
 "cells": [
  {
   "cell_type": "markdown",
   "id": "10cc5ddb-417d-43cd-ba12-e4c781850d67",
   "metadata": {},
   "source": [
    "# Importation de fonctions et de packages\n",
    "\n",
    "Tr\u00e8s souvent, nous avons besoin d'outils qui ne sont pas directement fournis par la biblioth\u00e8que Python par d\u00e9faut. Dans ce cas, nous devons importer les fonctions n\u00e9cessaires \u00e0 partir de modules ou de packages dans nos notebooks ou scripts. Certains modules sont fournis directement avec la distribution Python (comme le module math vu dans [Math de base en python](Math_in_python.ipynb)), et d'autres comme Numpy, scikit-image etc. sont des packages externes install\u00e9s avec pip ou conda. En ce qui concerne l'importation, ils fonctionnent de la m\u00eame mani\u00e8re, et nous avons plusieurs fa\u00e7ons d'importer des fonctions individuelles ou des groupes de fonctions."
   ]
  },
  {
   "cell_type": "markdown",
   "id": "ab468beb-e517-4468-86bb-bf6b8ba96a9f",
   "metadata": {},
   "source": [
    "## Importation de base\n",
    "\n",
    "L'instruction d'importation de base utilise les mots-cl\u00e9s ```import``` et le nom du module. Par exemple, avec le module Python de base ```pathlib``` qui g\u00e8re les chemins et les noms de fichiers :"
   ]
  },
  {
   "cell_type": "code",
   "execution_count": 13,
   "id": "d00dce4e-c426-484c-bd41-2905dc99f59c",
   "metadata": {},
   "outputs": [],
   "source": [
    "import pathlib"
   ]
  },
  {
   "cell_type": "markdown",
   "id": "130dff08-9326-4df4-999f-fb98d1172617",
   "metadata": {},
   "source": [
    "Si nous voulons importer un package externe, nous devons nous assurer qu'il est effectivement install\u00e9, sinon nous obtenons un message d'erreur :"
   ]
  },
  {
   "cell_type": "code",
   "execution_count": 14,
   "id": "3d20edb7-7cec-4ea0-a46a-51f7584bf635",
   "metadata": {},
   "outputs": [
    {
     "ename": "ModuleNotFoundError",
     "evalue": "No module named 'absent_package'",
     "output_type": "error",
     "traceback": [
      "\u001b[0;31m---------------------------------------------------------------------------\u001b[0m",
      "\u001b[0;31mModuleNotFoundError\u001b[0m                       Traceback (most recent call last)",
      "Input \u001b[0;32mIn [14]\u001b[0m, in \u001b[0;36m<cell line: 1>\u001b[0;34m()\u001b[0m\n\u001b[0;32m----> 1\u001b[0m \u001b[38;5;28;01mimport\u001b[39;00m \u001b[38;5;21;01mabsent_package\u001b[39;00m\n",
      "\u001b[0;31mModuleNotFoundError\u001b[0m: No module named 'absent_package'"
     ]
    }
   ],
   "source": [
    "import absent_package"
   ]
  },
  {
   "cell_type": "markdown",
   "id": "e8cfed05-6309-4c37-8ee1-a0ab74a70552",
   "metadata": {},
   "source": [
    "Si vous avez un package manquant, vous pouvez l'installer directement depuis le notebook en utilisant pip ou conda. Par exemple, si Numpy n'est pas encore install\u00e9, vous pourriez ex\u00e9cuter :"
   ]
  },
  {
   "cell_type": "code",
   "execution_count": 41,
   "id": "6cb89fc2-a2c1-44ca-915c-bfd9f185a368",
   "metadata": {},
   "outputs": [
    {
     "name": "stdout",
     "output_type": "stream",
     "text": [
      "Collecting package metadata (current_repodata.json): done\n",
      "Solving environment: done\n",
      "\n",
      "# All requested packages already installed.\n",
      "\n",
      "\n",
      "Note: you may need to restart the kernel to use updated packages.\n"
     ]
    }
   ],
   "source": [
    "conda install -c conda-forge numpy"
   ]
  },
  {
   "cell_type": "markdown",
   "id": "adbad354-b227-41d1-bc97-7b4a386dc8cc",
   "metadata": {},
   "source": [
    "## Formulation alternative d'importation\n",
    "\n",
    "En utilisant la formulation simple ci-dessus, nous acc\u00e9dons aux fonctions directement attach\u00e9es au package principal. Importons le package Numpy que nous utiliserons plus tard pour manipuler des images. Nous pouvons l'importer :"
   ]
  },
  {
   "cell_type": "code",
   "execution_count": 15,
   "id": "c5374a88-b2cf-4963-b076-616bfaeb6aff",
   "metadata": {},
   "outputs": [],
   "source": [
    "import numpy"
   ]
  },
  {
   "cell_type": "markdown",
   "id": "caf83b1e-76e7-4a2b-aabb-2180dae9148f",
   "metadata": {},
   "source": [
    "et maintenant nous avons acc\u00e8s, par exemple, \u00e0 la fonction cosinus de Numpy en utilisant simplement la notation point\u00e9e :"
   ]
  },
  {
   "cell_type": "code",
   "execution_count": 16,
   "id": "952e16a1-9684-4867-9273-247ad6707eeb",
   "metadata": {},
   "outputs": [
    {
     "data": {
      "text/plain": [
       "-0.9999987317275395"
      ]
     },
     "execution_count": 16,
     "metadata": {},
     "output_type": "execute_result"
    }
   ],
   "source": [
    "numpy.cos(3.14)"
   ]
  },
  {
   "cell_type": "markdown",
   "id": "f73a553c-1cec-4ad8-a8f9-6601d03e788f",
   "metadata": {},
   "source": [
    "Pour trouver toutes les fonctions disponibles dans un package ou un module, vous devez g\u00e9n\u00e9ralement consulter sa documentation et rechercher l'*Interface de Programmation d'Application* ou *API*. Par exemple, ici nous trouvons une description de toutes les fonctions math\u00e9matiques (y compris le cosinus) de Numpy : https://numpy.org/doc/stable/reference/routines.math.html"
   ]
  },
  {
   "cell_type": "markdown",
   "id": "42490a15-3988-4359-a1c6-9a9c588a3c0e",
   "metadata": {},
   "source": [
    "### Raccourcissement du nom\n",
    "\n",
    "Si nous utilisons un package r\u00e9guli\u00e8rement, nous pourrions ne pas vouloir \u00e9crire le nom complet du package chaque fois que nous avons besoin d'une fonction de celui-ci. Pour \u00e9viter cela, nous pouvons l'abr\u00e9ger au moment de l'importation en utilisant l'instruction ```as``` :"
   ]
  },
  {
   "cell_type": "code",
   "execution_count": 17,
   "id": "f3ab4b68-d1a6-4708-aafb-a95c9efee4a8",
   "metadata": {},
   "outputs": [],
   "source": [
    "import numpy as np"
   ]
  },
  {
   "cell_type": "code",
   "execution_count": 18,
   "id": "b19bb26d-d119-4120-8152-0336c949c069",
   "metadata": {},
   "outputs": [
    {
     "data": {
      "text/plain": [
       "-0.9999987317275395"
      ]
     },
     "execution_count": 18,
     "metadata": {},
     "output_type": "execute_result"
    }
   ],
   "source": [
    "np.cos(3.14)"
   ]
  },
  {
   "cell_type": "markdown",
   "id": "60f63fce-d4dc-42ff-b4e7-4b168d709bab",
   "metadata": {},
   "source": [
    "### Fonctions sp\u00e9cifiques\n",
    "\n",
    "Si nous n'avons besoin que d'une fonction sp\u00e9cifique d'un package, nous pouvons aussi simplement l'importer en utilisant l'instruction ```from```. Par exemple, si nous voulons importer uniquement la fonction ```np.cos``` ci-dessus :"
   ]
  },
  {
   "cell_type": "code",
   "execution_count": 19,
   "id": "918ca0db-90e9-47b3-9c53-4652049843f1",
   "metadata": {},
   "outputs": [],
   "source": [
    "from numpy import cos"
   ]
  },
  {
   "cell_type": "code",
   "execution_count": 20,
   "id": "8374d32d-7a48-43cb-ad55-b564f87cc2b4",
   "metadata": {},
   "outputs": [
    {
     "data": {
      "text/plain": [
       "-0.9999987317275395"
      ]
     },
     "execution_count": 20,
     "metadata": {},
     "output_type": "execute_result"
    }
   ],
   "source": [
    "cos(3.14)"
   ]
  },
  {
   "cell_type": "markdown",
   "id": "23644840-840f-4ecd-b09a-4fee262678ce",
   "metadata": {},
   "source": [
    "Bien s\u00fbr, dans ce cas, \u00e0 moins de trouver la ligne sp\u00e9cifique o\u00f9 la fonction est import\u00e9e, nous ne savons pas que ```cos``` appartient n\u00e9cessairement \u00e0 Numpy, car nous aurions pu d\u00e9finir une telle fonction dans le notebook."
   ]
  },
  {
   "cell_type": "markdown",
   "id": "ba26add4-d1dd-4123-90da-38d0b8d61409",
   "metadata": {},
   "source": [
    "## Sous-modules\n",
    "\n",
    "Dans les packages plus importants comme Numpy, certaines fonctions sont directement accessibles depuis le package principal (comme ```np.cos```) et d'autres, avec des t\u00e2ches plus sp\u00e9cialis\u00e9es, sont regroup\u00e9es par sujet ou domaine dans des sous-modules. Par exemple, Numpy a un sous-module d\u00e9di\u00e9 aux distributions appel\u00e9 ```random```. Tous les points vus ci-dessus sont toujours valables ici.\n",
    "\n",
    "Nous utilisons la notation point\u00e9e pour acc\u00e9der aux fonctions, mais nous devons maintenant \u00e9galement sp\u00e9cifier le nom du sous-module. Par exemple, la fonction ```normal``` qui g\u00e9n\u00e8re des nombres tir\u00e9s d'une distribution normale :"
   ]
  },
  {
   "cell_type": "code",
   "execution_count": 31,
   "id": "108d12fd-041a-4f48-9f92-58479d5eb9cd",
   "metadata": {},
   "outputs": [
    {
     "data": {
      "text/plain": [
       "1.8077301364791438"
      ]
     },
     "execution_count": 31,
     "metadata": {},
     "output_type": "execute_result"
    }
   ],
   "source": [
    "np.random.normal()"
   ]
  },
  {
   "cell_type": "markdown",
   "id": "ff382ef6-de48-49b7-968b-7120fb505367",
   "metadata": {},
   "source": [
    "Nous pouvons raccourcir l'appel de fonction en important uniquement le sous-module :"
   ]
  },
  {
   "cell_type": "code",
   "execution_count": 32,
   "id": "e60dc664-f66a-475c-86d5-44cdc8448826",
   "metadata": {},
   "outputs": [],
   "source": [
    "from numpy import random"
   ]
  },
  {
   "cell_type": "code",
   "execution_count": 33,
   "id": "8c8470b2-882f-4cda-8c1f-795c22db05ab",
   "metadata": {},
   "outputs": [
    {
     "data": {
      "text/plain": [
       "0.0909924357071552"
      ]
     },
     "execution_count": 33,
     "metadata": {},
     "output_type": "execute_result"
    }
   ],
   "source": [
    "random.normal()"
   ]
  },
  {
   "cell_type": "markdown",
   "id": "f7e64bd9-1127-43cb-96db-60a12a56ea48",
   "metadata": {},
   "source": [
    "et nous pouvons encore raccourcir en important juste la fonction :"
   ]
  },
  {
   "cell_type": "code",
   "execution_count": 34,
   "id": "eb009d0d-5b8f-49ab-8a5e-d16c972837b8",
   "metadata": {},
   "outputs": [],
   "source": [
    "from numpy.random import normal"
   ]
  },
  {
   "cell_type": "code",
   "execution_count": 35,
   "id": "5533cd1d-1f0e-47d7-acb5-ad0ea6772019",
   "metadata": {},
   "outputs": [
    {
     "data": {
      "text/plain": [
       "0.0038794083334154307"
      ]
     },
     "execution_count": 35,
     "metadata": {},
     "output_type": "execute_result"
    }
   ],
   "source": [
    "normal()"
   ]
  },
  {
   "cell_type": "markdown",
   "id": "cc770a20-0014-4b6c-b12e-3fa6b1d72f22",
   "metadata": {},
   "source": [
    "## Exercice\n",
    "\n",
    "Le package Numpy a un sous-module d'alg\u00e8bre lin\u00e9aire appel\u00e9 ```linalg```. Le code suivant calcule la norme d'un vecteur : ```np.linalg.norm([1,2])```. Essayez de :\n",
    "- importer seulement le sous-module et appeler la m\u00eame fonction\n",
    "- importer seulement la fonction ```norm``` et l'appeler\n",
    " "
   ]
  },
  {
   "cell_type": "code",
   "execution_count": null,
   "id": "72dc7b73-b072-411d-92f3-a7c9cce4395f",
   "metadata": {},
   "outputs": [],
   "source": []
  }
 ],
 "metadata": {
  "kernelspec": {
   "display_name": "Python 3 (ipykernel)",
   "language": "python",
   "name": "python3"
  },
  "language_info": {
   "codemirror_mode": {
    "name": "ipython",
    "version": 3
   },
   "file_extension": ".py",
   "mimetype": "text/x-python",
   "name": "python",
   "nbconvert_exporter": "python",
   "pygments_lexer": "ipython3",
   "version": "3.9.19"
  }
 },
 "nbformat": 4,
 "nbformat_minor": 5
}