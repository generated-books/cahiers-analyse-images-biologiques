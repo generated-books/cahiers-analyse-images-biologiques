{
 "cells": [
  {
   "cell_type": "markdown",
   "id": "ranging-theology",
   "metadata": {},
   "source": [
    "(lists-and-tuples)=\n",
    "# Listes et tuples\n",
    "Les variables peuvent \u00e9galement contenir plusieurs entr\u00e9es de valeurs. On les appelle des listes et des tuples. Certains programmeurs les appellent aussi des vecteurs ou des tableaux ; des tableaux de valeurs. Nous connaissons d\u00e9j\u00e0 un type de tableau, les cha\u00eenes de caract\u00e8res. Les cha\u00eenes sont des listes de caract\u00e8res.\n",
    "\n",
    "Voir aussi\n",
    "* [Arrays](https://physics.nyu.edu/pine/pymanual/html/chap3/chap3_arrays.html)\n",
    "* [Average is list](https://www.geeksforgeeks.org/find-average-list-python/)\n",
    "* [Array in Python](https://www.scaler.com/topics/array-in-python/)\n",
    "\n",
    "Vous pouvez acc\u00e9der aux \u00e9l\u00e9ments d'un tableau en utilisant des crochets `[]` qui vous permettent d'acc\u00e9der \u00e0 un \u00e9l\u00e9ment \u00e0 un index donn\u00e9. L'indexation commence \u00e0 0. Ainsi, le premier \u00e9l\u00e9ment d'un tableau est l'\u00e9l\u00e9ment num\u00e9ro 0. La cha\u00eene suivante contient 5 caract\u00e8res et donc, on peut acc\u00e9der aux \u00e9l\u00e9ments d'index 0, 1, 2, 3 et 4 :"
   ]
  },
  {
   "cell_type": "code",
   "execution_count": 1,
   "id": "divine-cartoon",
   "metadata": {},
   "outputs": [],
   "source": [
    "word = \"Hello\""
   ]
  },
  {
   "cell_type": "code",
   "execution_count": 2,
   "id": "mental-height",
   "metadata": {},
   "outputs": [
    {
     "data": {
      "text/plain": [
       "'H'"
      ]
     },
     "execution_count": 2,
     "metadata": {},
     "output_type": "execute_result"
    }
   ],
   "source": [
    "word[0]"
   ]
  },
  {
   "cell_type": "code",
   "execution_count": 3,
   "id": "medical-beverage",
   "metadata": {},
   "outputs": [
    {
     "data": {
      "text/plain": [
       "'e'"
      ]
     },
     "execution_count": 3,
     "metadata": {},
     "output_type": "execute_result"
    }
   ],
   "source": [
    "word[1]"
   ]
  },
  {
   "cell_type": "code",
   "execution_count": 4,
   "id": "collected-cleaning",
   "metadata": {},
   "outputs": [
    {
     "data": {
      "text/plain": [
       "'l'"
      ]
     },
     "execution_count": 4,
     "metadata": {},
     "output_type": "execute_result"
    }
   ],
   "source": [
    "word[2]"
   ]
  },
  {
   "cell_type": "code",
   "execution_count": 5,
   "id": "honest-tribe",
   "metadata": {},
   "outputs": [
    {
     "data": {
      "text/plain": [
       "'l'"
      ]
     },
     "execution_count": 5,
     "metadata": {},
     "output_type": "execute_result"
    }
   ],
   "source": [
    "word[3]"
   ]
  },
  {
   "cell_type": "code",
   "execution_count": 6,
   "id": "electronic-sauce",
   "metadata": {},
   "outputs": [
    {
     "data": {
      "text/plain": [
       "'o'"
      ]
     },
     "execution_count": 6,
     "metadata": {},
     "output_type": "execute_result"
    }
   ],
   "source": [
    "word[4]"
   ]
  },
  {
   "cell_type": "markdown",
   "id": "b12b60fa-fc21-4240-9f35-dc7ba84f050b",
   "metadata": {},
   "source": [
    "Lorsqu'on acc\u00e8de \u00e0 un index qui n'est pas dans la liste, nous recevons une erreur :"
   ]
  },
  {
   "cell_type": "code",
   "execution_count": 8,
   "id": "former-balloon",
   "metadata": {},
   "outputs": [
    {
     "ename": "IndexError",
     "evalue": "string index out of range",
     "output_type": "error",
     "traceback": [
      "\u001b[0;31m---------------------------------------------------------------------------\u001b[0m",
      "\u001b[0;31mIndexError\u001b[0m                                Traceback (most recent call last)",
      "Input \u001b[0;32mIn [8]\u001b[0m, in \u001b[0;36m<module>\u001b[0;34m\u001b[0m\n\u001b[0;32m----> 1\u001b[0m \u001b[43mword\u001b[49m\u001b[43m[\u001b[49m\u001b[38;5;241;43m5\u001b[39;49m\u001b[43m]\u001b[49m\n",
      "\u001b[0;31mIndexError\u001b[0m: string index out of range"
     ]
    }
   ],
   "source": [
    "word[5]"
   ]
  },
  {
   "cell_type": "markdown",
   "id": "robust-therapist",
   "metadata": {},
   "source": [
    "# Listes num\u00e9riques\n",
    "Un autre type de tableau sont les listes num\u00e9riques. Elles sont courantes pour stocker des mesures d'exp\u00e9riences par exemple :"
   ]
  },
  {
   "cell_type": "code",
   "execution_count": 9,
   "id": "critical-hearing",
   "metadata": {},
   "outputs": [],
   "source": [
    "measurements = [5.5, 6.3, 7.2, 8.0, 8.8]"
   ]
  },
  {
   "cell_type": "code",
   "execution_count": 10,
   "id": "presidential-brush",
   "metadata": {},
   "outputs": [
    {
     "data": {
      "text/plain": [
       "5.5"
      ]
     },
     "execution_count": 10,
     "metadata": {},
     "output_type": "execute_result"
    }
   ],
   "source": [
    "measurements[0]"
   ]
  },
  {
   "cell_type": "code",
   "execution_count": 11,
   "id": "sweet-munich",
   "metadata": {},
   "outputs": [
    {
     "data": {
      "text/plain": [
       "6.3"
      ]
     },
     "execution_count": 11,
     "metadata": {},
     "output_type": "execute_result"
    }
   ],
   "source": [
    "measurements[1]"
   ]
  },
  {
   "cell_type": "markdown",
   "id": "military-vision",
   "metadata": {},
   "source": [
    "Modifier les entr\u00e9es dans les listes fonctionne comme ceci :"
   ]
  },
  {
   "cell_type": "code",
   "execution_count": 12,
   "id": "hairy-tomato",
   "metadata": {},
   "outputs": [],
   "source": [
    "measurements[1] = 25"
   ]
  },
  {
   "cell_type": "code",
   "execution_count": 13,
   "id": "usual-leeds",
   "metadata": {},
   "outputs": [
    {
     "data": {
      "text/plain": [
       "25"
      ]
     },
     "execution_count": 13,
     "metadata": {},
     "output_type": "execute_result"
    }
   ],
   "source": [
    "measurements[1]"
   ]
  },
  {
   "cell_type": "markdown",
   "id": "antique-collins",
   "metadata": {},
   "source": [
    "Vous pouvez \u00e9galement ajouter des entr\u00e9es aux listes :"
   ]
  },
  {
   "cell_type": "code",
   "execution_count": 14,
   "id": "multiple-coffee",
   "metadata": {},
   "outputs": [],
   "source": [
    "measurements.append(10.2)"
   ]
  },
  {
   "cell_type": "markdown",
   "id": "moved-consultation",
   "metadata": {},
   "source": [
    "Les listes peuvent \u00e9galement \u00eatre invers\u00e9es :"
   ]
  },
  {
   "cell_type": "code",
   "execution_count": 15,
   "id": "fitting-december",
   "metadata": {},
   "outputs": [
    {
     "data": {
      "text/plain": [
       "[5.5, 25, 7.2, 8.0, 8.8, 10.2]"
      ]
     },
     "execution_count": 15,
     "metadata": {},
     "output_type": "execute_result"
    }
   ],
   "source": [
    "measurements"
   ]
  },
  {
   "cell_type": "code",
   "execution_count": 16,
   "id": "literary-designation",
   "metadata": {},
   "outputs": [],
   "source": [
    "measurements.reverse()"
   ]
  },
  {
   "cell_type": "code",
   "execution_count": 17,
   "id": "united-joint",
   "metadata": {},
   "outputs": [
    {
     "data": {
      "text/plain": [
       "[10.2, 8.8, 8.0, 7.2, 25, 5.5]"
      ]
     },
     "execution_count": 17,
     "metadata": {},
     "output_type": "execute_result"
    }
   ],
   "source": [
    "measurements"
   ]
  },
  {
   "cell_type": "markdown",
   "id": "periodic-toyota",
   "metadata": {},
   "source": [
    "Tout comme les cha\u00eenes de caract\u00e8res, vous pouvez \u00e9galement concat\u00e9ner des tableaux :"
   ]
  },
  {
   "cell_type": "code",
   "execution_count": 18,
   "id": "gorgeous-harbor",
   "metadata": {},
   "outputs": [],
   "source": [
    "more_measurements = [12.3, 14.5, 28.3]"
   ]
  },
  {
   "cell_type": "code",
   "execution_count": 19,
   "id": "latest-rachel",
   "metadata": {},
   "outputs": [
    {
     "data": {
      "text/plain": [
       "[10.2, 8.8, 8.0, 7.2, 25, 5.5, 12.3, 14.5, 28.3]"
      ]
     },
     "execution_count": 19,
     "metadata": {},
     "output_type": "execute_result"
    }
   ],
   "source": [
    "measurements + more_measurements"
   ]
  },
  {
   "cell_type": "markdown",
   "id": "tested-literature",
   "metadata": {},
   "source": [
    "Lorsque vous travaillez avec des listes num\u00e9riques, vous pouvez utiliser certaines des fonctions int\u00e9gr\u00e9es de Python pour effectuer des statistiques de base sur vos mesures"
   ]
  },
  {
   "cell_type": "code",
   "execution_count": 20,
   "id": "entitled-incident",
   "metadata": {},
   "outputs": [
    {
     "data": {
      "text/plain": [
       "5.5"
      ]
     },
     "execution_count": 20,
     "metadata": {},
     "output_type": "execute_result"
    }
   ],
   "source": [
    "# valeur minimale dans la liste\n",
    "min(measurements)"
   ]
  },
  {
   "cell_type": "code",
   "execution_count": 21,
   "id": "checked-factor",
   "metadata": {},
   "outputs": [
    {
     "data": {
      "text/plain": [
       "25"
      ]
     },
     "execution_count": 21,
     "metadata": {},
     "output_type": "execute_result"
    }
   ],
   "source": [
    "# valeur maximale dans la liste\n",
    "max(measurements)"
   ]
  },
  {
   "cell_type": "code",
   "execution_count": 22,
   "id": "irish-space",
   "metadata": {},
   "outputs": [
    {
     "data": {
      "text/plain": [
       "64.7"
      ]
     },
     "execution_count": 22,
     "metadata": {},
     "output_type": "execute_result"
    }
   ],
   "source": [
    "# somme de tous les \u00e9l\u00e9ments de la liste\n",
    "sum(measurements)"
   ]
  },
  {
   "cell_type": "code",
   "execution_count": 23,
   "id": "established-school",
   "metadata": {},
   "outputs": [
    {
     "data": {
      "text/plain": [
       "6"
      ]
     },
     "execution_count": 23,
     "metadata": {},
     "output_type": "execute_result"
    }
   ],
   "source": [
    "# nombre d'\u00e9l\u00e9ments dans la liste\n",
    "len(measurements)"
   ]
  },
  {
   "cell_type": "code",
   "execution_count": 24,
   "id": "spectacular-blocking",
   "metadata": {},
   "outputs": [
    {
     "data": {
      "text/plain": [
       "10.783333333333333"
      ]
     },
     "execution_count": 24,
     "metadata": {},
     "output_type": "execute_result"
    }
   ],
   "source": [
    "# moyenne de tous les \u00e9l\u00e9ments de la liste\n",
    "sum(measurements) / len(measurements)"
   ]
  },
  {
   "cell_type": "markdown",
   "id": "favorite-canvas",
   "metadata": {},
   "source": [
    "# Listes de types mixtes\n",
    "Vous pouvez \u00e9galement stocker des valeurs de diff\u00e9rents types dans une liste"
   ]
  },
  {
   "cell_type": "code",
   "execution_count": 25,
   "id": "chief-people",
   "metadata": {},
   "outputs": [],
   "source": [
    "mixed_list = [22, 5.6, \"Cat\", 'Dog']"
   ]
  },
  {
   "cell_type": "code",
   "execution_count": 26,
   "id": "listed-shape",
   "metadata": {},
   "outputs": [
    {
     "data": {
      "text/plain": [
       "22"
      ]
     },
     "execution_count": 26,
     "metadata": {},
     "output_type": "execute_result"
    }
   ],
   "source": [
    "mixed_list[0]"
   ]
  },
  {
   "cell_type": "code",
   "execution_count": 27,
   "id": "exclusive-correction",
   "metadata": {},
   "outputs": [
    {
     "data": {
      "text/plain": [
       "'Dog'"
      ]
     },
     "execution_count": 27,
     "metadata": {},
     "output_type": "execute_result"
    }
   ],
   "source": [
    "mixed_list[3]"
   ]
  },
  {
   "cell_type": "code",
   "execution_count": 28,
   "id": "geographic-allah",
   "metadata": {},
   "outputs": [
    {
     "data": {
      "text/plain": [
       "str"
      ]
     },
     "execution_count": 28,
     "metadata": {},
     "output_type": "execute_result"
    }
   ],
   "source": [
    "type(mixed_list[3])"
   ]
  },
  {
   "cell_type": "markdown",
   "id": "sublime-naples",
   "metadata": {},
   "source": [
    "# Tuples\n",
    "Les tuples sont des listes qui ne peuvent pas \u00eatre modifi\u00e9es :"
   ]
  },
  {
   "cell_type": "code",
   "execution_count": 29,
   "id": "ambient-institution",
   "metadata": {},
   "outputs": [],
   "source": [
    "immutable = (4, 3, 7.8)"
   ]
  },
  {
   "cell_type": "code",
   "execution_count": 30,
   "id": "careful-shell",
   "metadata": {},
   "outputs": [
    {
     "data": {
      "text/plain": [
       "3"
      ]
     },
     "execution_count": 30,
     "metadata": {},
     "output_type": "execute_result"
    }
   ],
   "source": [
    "immutable[1]"
   ]
  },
  {
   "cell_type": "code",
   "execution_count": 31,
   "id": "confused-sympathy",
   "metadata": {},
   "outputs": [
    {
     "ename": "TypeError",
     "evalue": "'tuple' object does not support item assignment",
     "output_type": "error",
     "traceback": [
      "\u001b[0;31m---------------------------------------------------------------------------\u001b[0m",
      "\u001b[0;31mTypeError\u001b[0m                                 Traceback (most recent call last)",
      "Input \u001b[0;32mIn [31]\u001b[0m, in \u001b[0;36m<module>\u001b[0;34m\u001b[0m\n\u001b[0;32m----> 1\u001b[0m immutable[\u001b[38;5;241m1\u001b[39m] \u001b[38;5;241m=\u001b[39m \u001b[38;5;241m5\u001b[39m\n",
      "\u001b[0;31mTypeError\u001b[0m: 'tuple' object does not support item assignment"
     ]
    }
   ],
   "source": [
    "immutable[1] = 5"
   ]
  },
  {
   "cell_type": "markdown",
   "id": "civic-cameroon",
   "metadata": {},
   "source": [
    "Vous pouvez convertir des tuples en listes et des listes en tuples :"
   ]
  },
  {
   "cell_type": "code",
   "execution_count": 32,
   "id": "stone-continuity",
   "metadata": {},
   "outputs": [
    {
     "data": {
      "text/plain": [
       "tuple"
      ]
     },
     "execution_count": 32,
     "metadata": {},
     "output_type": "execute_result"
    }
   ],
   "source": [
    "type(immutable)"
   ]
  },
  {
   "cell_type": "code",
   "execution_count": 33,
   "id": "equal-european",
   "metadata": {},
   "outputs": [],
   "source": [
    "mutable = list(immutable)"
   ]
  },
  {
   "cell_type": "code",
   "execution_count": 34,
   "id": "turned-cemetery",
   "metadata": {},
   "outputs": [
    {
     "data": {
      "text/plain": [
       "list"
      ]
     },
     "execution_count": 34,
     "metadata": {},
     "output_type": "execute_result"
    }
   ],
   "source": [
    "type(mutable)"
   ]
  },
  {
   "cell_type": "code",
   "execution_count": 35,
   "id": "upset-bandwidth",
   "metadata": {},
   "outputs": [],
   "source": [
    "again_immuntable = tuple(mutable)"
   ]
  },
  {
   "cell_type": "code",
   "execution_count": 36,
   "id": "tested-contrary",
   "metadata": {},
   "outputs": [
    {
     "data": {
      "text/plain": [
       "tuple"
      ]
     },
     "execution_count": 36,
     "metadata": {},
     "output_type": "execute_result"
    }
   ],
   "source": [
    "type(again_immuntable)"
   ]
  },
  {
   "cell_type": "markdown",
   "id": "supreme-proceeding",
   "metadata": {},
   "source": [
    "# Exercice\n",
    "Supposons que vous ayez effectu\u00e9 des mesures sur plusieurs jours. Calculez la moyenne des mesures de cette semaine ?"
   ]
  },
  {
   "cell_type": "code",
   "execution_count": 37,
   "id": "sublime-unemployment",
   "metadata": {},
   "outputs": [],
   "source": [
    "measurements_monday = [2.3, 3.1, 5.6]\n",
    "measurements_tuesday = [1.8, 7.0]\n",
    "measurements_wednesday = [4.5, 1.5, 6.4, 3.2]\n",
    "measurements_thursday = [1.9, 2.0]\n",
    "measurements_friday = [4.4]"
   ]
  },
  {
   "cell_type": "markdown",
   "id": "stable-stage",
   "metadata": {},
   "source": []
  }
 ],
 "metadata": {
  "kernelspec": {
   "display_name": "Python 3 (ipykernel)",
   "language": "python",
   "name": "python3"
  },
  "language_info": {
   "codemirror_mode": {
    "name": "ipython",
    "version": 3
   },
   "file_extension": ".py",
   "mimetype": "text/x-python",
   "name": "python",
   "nbconvert_exporter": "python",
   "pygments_lexer": "ipython3",
   "version": "3.9.7"
  }
 },
 "nbformat": 4,
 "nbformat_minor": 5
}