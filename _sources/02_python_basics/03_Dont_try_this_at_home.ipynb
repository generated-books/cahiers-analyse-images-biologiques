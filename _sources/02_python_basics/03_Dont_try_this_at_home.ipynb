{
 "cells": [
  {
   "cell_type": "markdown",
   "id": "frank-basement",
   "metadata": {},
   "source": [
    "# Pi\u00e8ges lors du travail avec les notebooks Jupyter\n",
    "Vous pouvez ex\u00e9cuter la m\u00eame cellule plusieurs fois dans les notebooks Jupyter. Cela peut conduire \u00e0 des notebooks qui n'ont aucun sens pour le lecteur."
   ]
  },
  {
   "cell_type": "code",
   "execution_count": 3,
   "id": "metallic-classification",
   "metadata": {},
   "outputs": [],
   "source": [
    "a = 5\n",
    "b = 5"
   ]
  },
  {
   "cell_type": "code",
   "execution_count": 6,
   "id": "wired-crowd",
   "metadata": {},
   "outputs": [],
   "source": [
    "a = a + 1"
   ]
  },
  {
   "cell_type": "code",
   "execution_count": 7,
   "id": "shaped-capital",
   "metadata": {},
   "outputs": [
    {
     "data": {
      "text/plain": [
       "13"
      ]
     },
     "execution_count": 7,
     "metadata": {},
     "output_type": "execute_result"
    }
   ],
   "source": [
    "a + b"
   ]
  },
  {
   "cell_type": "markdown",
   "id": "olympic-vienna",
   "metadata": {},
   "source": [
    "Vous pouvez les ex\u00e9cuter dans le mauvais ordre, ce qui conduit au m\u00eame effet."
   ]
  },
  {
   "cell_type": "code",
   "execution_count": 10,
   "id": "backed-shaft",
   "metadata": {},
   "outputs": [],
   "source": [
    "d = 5"
   ]
  },
  {
   "cell_type": "code",
   "execution_count": 9,
   "id": "military-bedroom",
   "metadata": {},
   "outputs": [],
   "source": [
    "d = 10"
   ]
  },
  {
   "cell_type": "code",
   "execution_count": 11,
   "id": "radical-shakespeare",
   "metadata": {},
   "outputs": [
    {
     "data": {
      "text/plain": [
       "5"
      ]
     },
     "execution_count": 11,
     "metadata": {},
     "output_type": "execute_result"
    }
   ],
   "source": [
    "d"
   ]
  },
  {
   "cell_type": "markdown",
   "id": "persistent-porcelain",
   "metadata": {},
   "source": [
    "Vous pouvez voir que les cellules ont \u00e9t\u00e9 ex\u00e9cut\u00e9es dans le mauvais ordre, de mani\u00e8re r\u00e9p\u00e9t\u00e9e ou non cons\u00e9cutive, en lisant le num\u00e9ro `In [?]` \u00e0 gauche.\n",
    "\n",
    "![](cell_execution_number.png)\n",
    "\n",
    "Astuce : Lorsque votre notebook est pr\u00eat, cliquez sur le menu `Kernel > Restart & Run all` pour vous assurer que toutes les cellules du notebook sont ex\u00e9cut\u00e9es dans le bon ordre."
   ]
  },
  {
   "cell_type": "code",
   "execution_count": null,
   "id": "conservative-cyprus",
   "metadata": {},
   "outputs": [],
   "source": []
  }
 ],
 "metadata": {
  "kernelspec": {
   "display_name": "Python 3 (ipykernel)",
   "language": "python",
   "name": "python3"
  },
  "language_info": {
   "codemirror_mode": {
    "name": "ipython",
    "version": 3
   },
   "file_extension": ".py",
   "mimetype": "text/x-python",
   "name": "python",
   "nbconvert_exporter": "python",
   "pygments_lexer": "ipython3",
   "version": "3.9.0"
  }
 },
 "nbformat": 4,
 "nbformat_minor": 5
}