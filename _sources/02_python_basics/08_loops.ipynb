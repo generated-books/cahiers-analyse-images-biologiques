{
 "cells": [
  {
   "cell_type": "markdown",
   "metadata": {},
   "source": [
    "# Boucles\n",
    "Si vous voulez que du code soit ex\u00e9cut\u00e9 de mani\u00e8re r\u00e9p\u00e9t\u00e9e, vous pouvez utiliser des boucles.\n",
    "\n",
    "Voir aussi\n",
    "* [Tutoriel sur les boucles Python](https://www.youtube.com/watch?v=4dN4Cn4u2M0)\n",
    "* [Boucles for en Python](https://www.w3schools.com/python/python_for_loops.asp)"
   ]
  },
  {
   "cell_type": "markdown",
   "metadata": {},
   "source": [
    "## Boucles For\n",
    "Pour it\u00e9rer sur une plage de nombres, nous pouvons utiliser une simple boucle `for` et la fonction [range](https://www.w3schools.com/python/ref_func_range.asp).\n",
    "\n",
    "Dans la cellule suivante, la commande `print(i)` sera ex\u00e9cut\u00e9e plusieurs fois pour diff\u00e9rentes valeurs de `i`. Nous **i**t\u00e9rons sur une plage de valeurs : "
   ]
  },
  {
   "cell_type": "code",
   "execution_count": 1,
   "metadata": {},
   "outputs": [
    {
     "name": "stdout",
     "output_type": "stream",
     "text": [
      "0\n",
      "1\n",
      "2\n",
      "3\n",
      "4\n"
     ]
    }
   ],
   "source": [
    "for i in range(0, 5):\n",
    "    print(i)"
   ]
  },
  {
   "cell_type": "markdown",
   "metadata": {},
   "source": [
    "Notez que le code ci-dessus qui est indent\u00e9 ne sera ex\u00e9cut\u00e9 que pour le premier nombre donn\u00e9 (0) et continuera jusqu'au dernier nombre (5) mais sans l'inclure.\n",
    "\n",
    "Vous pouvez \u00e9galement it\u00e9rer sur une plage de nombres avec un pas d\u00e9fini, par exemple pas de 3 :"
   ]
  },
  {
   "cell_type": "code",
   "execution_count": 2,
   "metadata": {},
   "outputs": [
    {
     "name": "stdout",
     "output_type": "stream",
     "text": [
      "0\n",
      "3\n",
      "6\n",
      "9\n"
     ]
    }
   ],
   "source": [
    "for i in range(0, 10, 3):\n",
    "    print(i)"
   ]
  },
  {
   "cell_type": "markdown",
   "metadata": {},
   "source": [
    "L'it\u00e9ration sur des tableaux vous permet de faire quelque chose avec tous les \u00e9l\u00e9ments du tableau :"
   ]
  },
  {
   "cell_type": "code",
   "execution_count": 3,
   "metadata": {},
   "outputs": [
    {
     "name": "stdout",
     "output_type": "stream",
     "text": [
      "Dog\n",
      "Cat\n",
      "Mouse\n"
     ]
    }
   ],
   "source": [
    "for animal in [\"Dog\", \"Cat\", \"Mouse\"]:\n",
    "    print(animal)"
   ]
  },
  {
   "cell_type": "markdown",
   "metadata": {},
   "source": [
    "Vous pouvez it\u00e9rer sur deux tableaux en parall\u00e8le, par paires comme ceci :"
   ]
  },
  {
   "cell_type": "code",
   "execution_count": 4,
   "metadata": {},
   "outputs": [
    {
     "name": "stdout",
     "output_type": "stream",
     "text": [
      "Paired measurements: 1 and 4\n",
      "Paired measurements: 9 and 5\n",
      "Paired measurements: 7 and 5\n",
      "Paired measurements: 1 and 7\n",
      "Paired measurements: 2 and 4\n",
      "Paired measurements: 8 and 5\n",
      "Paired measurements: 9 and 4\n",
      "Paired measurements: 2 and 6\n",
      "Paired measurements: 1 and 6\n",
      "Paired measurements: 7 and 5\n",
      "Paired measurements: 8 and 4\n"
     ]
    }
   ],
   "source": [
    "# going through arrays pair-wise\n",
    "measurement_1 = [1, 9, 7, 1, 2, 8, 9, 2, 1, 7, 8]\n",
    "measurement_2 = [4, 5, 5, 7, 4, 5, 4, 6, 6, 5, 4]\n",
    "\n",
    "for m_1, m_2 in zip(measurement_1, measurement_2):\n",
    "    print(\"Paired measurements: \" + str(m_1) + \" and \" + str(m_2))"
   ]
  },
  {
   "cell_type": "markdown",
   "metadata": {},
   "source": [
    "Si vous voulez \u00e9galement conna\u00eetre l'index de l'\u00e9l\u00e9ment dans la liste, utilisez la fonction [enumerate](https://realpython.com/python-enumerate/) :"
   ]
  },
  {
   "cell_type": "code",
   "execution_count": 5,
   "metadata": {},
   "outputs": [
    {
     "name": "stdout",
     "output_type": "stream",
     "text": [
      "The animal number 0 in the list is Dog\n",
      "The animal number 1 in the list is Cat\n",
      "The animal number 2 in the list is Mouse\n"
     ]
    }
   ],
   "source": [
    "# numbering and iterating through collections\n",
    "for index, animal in enumerate([\"Dog\", \"Cat\", \"Mouse\"]):\n",
    "    print(\"The animal number \" + str(index) + \" in the list is \" + animal)\n"
   ]
  },
  {
   "cell_type": "markdown",
   "metadata": {},
   "source": [
    "## G\u00e9n\u00e9ration de listes dans les boucles\n",
    "On peut g\u00e9n\u00e9rer des listes en utilisant des boucles for. La mani\u00e8re conventionnelle de le faire implique plusieurs lignes de code :"
   ]
  },
  {
   "cell_type": "code",
   "execution_count": 6,
   "metadata": {},
   "outputs": [
    {
     "name": "stdout",
     "output_type": "stream",
     "text": [
      "[0, 2, 4, 6, 8]\n"
     ]
    }
   ],
   "source": [
    "# we start with an empty list\n",
    "numbers = []\n",
    "\n",
    "# and add elements\n",
    "for i in range(0, 5):\n",
    "    numbers.append(i * 2)\n",
    "    \n",
    "print(numbers)"
   ]
  },
  {
   "cell_type": "markdown",
   "metadata": {},
   "source": [
    "On peut aussi l'\u00e9crire plus court. Le concept sous-jacent s'appelle [g\u00e9n\u00e9rateurs](https://wiki.python.org/moin/Generators)."
   ]
  },
  {
   "cell_type": "code",
   "execution_count": 7,
   "metadata": {},
   "outputs": [
    {
     "name": "stdout",
     "output_type": "stream",
     "text": [
      "[0, 2, 4, 6, 8]\n"
     ]
    }
   ],
   "source": [
    "numbers = [i * 2 for i in range(0, 5)]\n",
    "\n",
    "print(numbers)"
   ]
  },
  {
   "cell_type": "markdown",
   "metadata": {},
   "source": [
    "La combinaison conventionnelle impliquant des instructions if ressemble \u00e0 ceci :"
   ]
  },
  {
   "cell_type": "code",
   "execution_count": 8,
   "metadata": {},
   "outputs": [
    {
     "name": "stdout",
     "output_type": "stream",
     "text": [
      "[2, 6]\n"
     ]
    }
   ],
   "source": [
    "# we start with an empty list\n",
    "numbers = []\n",
    "\n",
    "# and add elements\n",
    "for i in range(0, 5):\n",
    "    # check if the number is odd\n",
    "    if i % 2:\n",
    "        numbers.append(i * 2)\n",
    "    \n",
    "print(numbers)"
   ]
  },
  {
   "cell_type": "markdown",
   "metadata": {},
   "source": [
    "Et la version courte comme ceci :"
   ]
  },
  {
   "cell_type": "code",
   "execution_count": 9,
   "metadata": {},
   "outputs": [
    {
     "name": "stdout",
     "output_type": "stream",
     "text": [
      "[2, 6]\n"
     ]
    }
   ],
   "source": [
    "numbers = [i * 2 for i in range(0, 5) if i % 2]\n",
    "\n",
    "print(numbers)"
   ]
  },
  {
   "cell_type": "markdown",
   "metadata": {},
   "source": [
    "## Boucles While\n",
    "Une autre fa\u00e7on de boucler est d'utiliser la boucle `while`. Elle fonctionne en v\u00e9rifiant une condition, similaire \u00e0 l'instruction `if`. Elle interrompra l'ex\u00e9cution d\u00e8s que la condition ne sera plus vraie :"
   ]
  },
  {
   "cell_type": "code",
   "execution_count": 10,
   "metadata": {},
   "outputs": [
    {
     "name": "stdout",
     "output_type": "stream",
     "text": [
      "512.0\n",
      "256.0\n",
      "128.0\n",
      "64.0\n",
      "32.0\n",
      "16.0\n",
      "8.0\n",
      "4.0\n",
      "2.0\n",
      "1.0\n"
     ]
    }
   ],
   "source": [
    "number = 1024\n",
    "\n",
    "while (number > 1):\n",
    "    number = number / 2\n",
    "    print(number)"
   ]
  },
  {
   "cell_type": "markdown",
   "metadata": {},
   "source": [
    "## Interruption des boucles\n",
    "Vous pouvez interrompre les boucles \u00e0 des points sp\u00e9cifiques dans votre code en utilisant la commande `break` :"
   ]
  },
  {
   "cell_type": "code",
   "execution_count": 11,
   "metadata": {},
   "outputs": [
    {
     "name": "stdout",
     "output_type": "stream",
     "text": [
      "512.0\n",
      "256.0\n",
      "128.0\n",
      "64.0\n",
      "32.0\n",
      "16.0\n",
      "8.0\n",
      "4.0\n",
      "2.0\n",
      "1.0\n",
      "0.5\n"
     ]
    }
   ],
   "source": [
    "number = 1024\n",
    "\n",
    "while (True):\n",
    "    number = number / 2\n",
    "    print(number)\n",
    "    \n",
    "    if number < 1:\n",
    "        break;"
   ]
  },
  {
   "cell_type": "code",
   "execution_count": 12,
   "metadata": {},
   "outputs": [
    {
     "name": "stdout",
     "output_type": "stream",
     "text": [
      "0\n",
      "1\n",
      "2\n",
      "3\n",
      "4\n",
      "5\n",
      "6\n"
     ]
    }
   ],
   "source": [
    "for i in range(10):\n",
    "    print(i)\n",
    "    if i > 5:\n",
    "        break"
   ]
  },
  {
   "cell_type": "markdown",
   "metadata": {},
   "source": [
    "## Sauter des it\u00e9rations dans les boucles\n",
    "Si vous voulez sauter des it\u00e9rations, vous pouvez utiliser l'instruction `continue`. Cela a souvent du sens en combinaison avec un `if` :"
   ]
  },
  {
   "cell_type": "code",
   "execution_count": 13,
   "metadata": {},
   "outputs": [
    {
     "name": "stdout",
     "output_type": "stream",
     "text": [
      "0\n",
      "1\n",
      "2\n",
      "7\n",
      "8\n",
      "9\n"
     ]
    }
   ],
   "source": [
    "for i in range(0, 10):\n",
    "    if i >= 3 and i <= 6:\n",
    "        continue\n",
    "    print(i)"
   ]
  },
  {
   "cell_type": "markdown",
   "metadata": {},
   "source": [
    "## Exercice 1\n",
    "Supposons que vous ayez une liste de noms de fichiers et que vous vouliez faire quelque chose avec eux, par exemple les imprimer. Programmez une boucle for qui imprime tous les noms de fichiers se terminant par \"tif\"."
   ]
  },
  {
   "cell_type": "code",
   "execution_count": 14,
   "metadata": {},
   "outputs": [],
   "source": [
    "file_names = ['dataset1.tif', 'dataset2.tif', 'summary.csv', 'readme.md', 'blobs.tif']"
   ]
  },
  {
   "cell_type": "code",
   "execution_count": null,
   "metadata": {},
   "outputs": [],
   "source": []
  },
  {
   "cell_type": "markdown",
   "metadata": {},
   "source": [
    "## Exercice 2\n",
    "Supposons que vous ayez une liste de rayons de cercles. Faites un tableau (dictionnaire) avec deux colonnes : rayon et aire."
   ]
  },
  {
   "cell_type": "code",
   "execution_count": 15,
   "metadata": {},
   "outputs": [],
   "source": [
    "radii = [3, 15, 67, 33, 12, 8, 12, 9, 22]"
   ]
  },
  {
   "cell_type": "code",
   "execution_count": null,
   "metadata": {},
   "outputs": [],
   "source": []
  }
 ],
 "metadata": {
  "kernelspec": {
   "display_name": "Python 3 (ipykernel)",
   "language": "python",
   "name": "python3"
  },
  "language_info": {
   "codemirror_mode": {
    "name": "ipython",
    "version": 3
   },
   "file_extension": ".py",
   "mimetype": "text/x-python",
   "name": "python",
   "nbconvert_exporter": "python",
   "pygments_lexer": "ipython3",
   "version": "3.9.0"
  },
  "toc": {
   "base_numbering": 1,
   "nav_menu": {},
   "number_sections": false,
   "sideBar": false,
   "skip_h1_title": false,
   "title_cell": "Table of Contents",
   "title_sidebar": "Contents",
   "toc_cell": false,
   "toc_position": {},
   "toc_section_display": false,
   "toc_window_display": false
  }
 },
 "nbformat": 4,
 "nbformat_minor": 4
}