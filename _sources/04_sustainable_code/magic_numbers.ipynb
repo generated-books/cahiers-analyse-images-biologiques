{
 "cells": [
  {
   "cell_type": "markdown",
   "id": "5230dc33-291b-4748-a4c8-77bb80036486",
   "metadata": {},
   "source": [
    "# \u00c9viter les nombres magiques\n",
    "Lors de la lecture du code, nous trouvons parfois des nombres dans le code dont la fonction n'est pas \u00e9vidente. Cependant, lorsque nous les modifions, soudainement notre programme ne fonctionne plus. Nous appelons ces nombres [nombres magiques](https://en.wikipedia.org/wiki/Magic_number_(programming)). Par exemple, savez-vous ce que font les `3` et `7` dans le code ci-dessous ?"
   ]
  },
  {
   "cell_type": "code",
   "execution_count": 1,
   "id": "c0ddc835-d1a8-4d05-abc6-9df2e606b9fe",
   "metadata": {},
   "outputs": [],
   "source": [
    "from skimage.io import imread\n",
    "from skimage.filters import gaussian, threshold_otsu\n",
    "from skimage.measure import label"
   ]
  },
  {
   "cell_type": "code",
   "execution_count": 2,
   "id": "ff35ed3c-4159-479c-8be8-f314eda942d9",
   "metadata": {},
   "outputs": [
    {
     "data": {
      "text/plain": [
       "37"
      ]
     },
     "execution_count": 2,
     "metadata": {},
     "output_type": "execute_result"
    }
   ],
   "source": [
    "image = imread(\"../../data/BBBC007_batch/17P1_POS0013_D_1UL.tif\")\n",
    "\n",
    "# noise removal\n",
    "blurred = gaussian(image, 3)\n",
    "\n",
    "# instance segmentation\n",
    "binary = blurred > threshold_otsu(blurred)\n",
    "labels = label(binary)\n",
    "\n",
    "# quantitative measurement\n",
    "labels.max()"
   ]
  },
  {
   "cell_type": "code",
   "execution_count": 3,
   "id": "a373b994-def7-4bdd-8525-2c81b5970d8a",
   "metadata": {},
   "outputs": [
    {
     "data": {
      "text/plain": [
       "19"
      ]
     },
     "execution_count": 3,
     "metadata": {},
     "output_type": "execute_result"
    }
   ],
   "source": [
    "image = imread(\"../../data/BBBC007_batch/17P1_POS0013_D_1UL.tif\")\n",
    "\n",
    "# noise removal\n",
    "blurred = gaussian(image, 7)\n",
    "\n",
    "# instance segmentation\n",
    "binary = blurred > threshold_otsu(blurred)\n",
    "labels = label(binary)\n",
    "\n",
    "# quantitative measurement\n",
    "labels.max()"
   ]
  },
  {
   "cell_type": "markdown",
   "id": "d9f144e8-0b63-491d-ad45-7bdf360ad958",
   "metadata": {},
   "source": [
    "## Une section de configuration au d\u00e9but\n",
    "Pour \u00e9viter les nombres magiques et rendre le code plus lisible, il est recommand\u00e9 d'avoir une section de code de configuration au d\u00e9but de chaque script / notebook. Vous pouvez \u00e9galement y utiliser des commentaires pour expliquer ce que signifient les variables. Au fait, donner de bons noms \u00e0 ces variables est essentiel."
   ]
  },
  {
   "cell_type": "code",
   "execution_count": 4,
   "id": "951b4f71-158f-468b-84a2-a9fd1b1deb23",
   "metadata": {},
   "outputs": [],
   "source": [
    "# enter the image filename to be processed here\n",
    "file_to_process = \"../../data/BBBC007_batch/17P1_POS0013_D_1UL.tif\"\n",
    "\n",
    "# enter the expected radius of nuclei here, in pixel units\n",
    "approximate_nuclei_radius = 3"
   ]
  },
  {
   "cell_type": "code",
   "execution_count": 5,
   "id": "9f715981-c55d-4526-bbe6-bfb0f521be49",
   "metadata": {},
   "outputs": [
    {
     "data": {
      "text/plain": [
       "37"
      ]
     },
     "execution_count": 5,
     "metadata": {},
     "output_type": "execute_result"
    }
   ],
   "source": [
    "image = imread(file_to_process)\n",
    "\n",
    "# noise removal\n",
    "blurred = gaussian(image, approximate_nuclei_radius)\n",
    "\n",
    "# instance segmentation\n",
    "binary = blurred > threshold_otsu(blurred)\n",
    "labels = label(binary)\n",
    "\n",
    "# quantitative measurement\n",
    "labels.max()"
   ]
  },
  {
   "cell_type": "markdown",
   "id": "2326b955-ec1e-416e-9606-36a2f7709d90",
   "metadata": {},
   "source": [
    "Un conseil suppl\u00e9mentaire : Python permet de sp\u00e9cifier des [arguments nomm\u00e9s](https://treyhunner.com/2018/04/keyword-arguments-in-python/) lors de l'appel de fonctions. En les utilisant, le code devient plus facile \u00e0 lire et \u00e0 comprendre :"
   ]
  },
  {
   "cell_type": "code",
   "execution_count": 6,
   "id": "76d0cc44-4a5e-4dcd-990e-ec2e49b5462f",
   "metadata": {},
   "outputs": [],
   "source": [
    "blurred = gaussian(image, sigma=approximate_nuclei_radius)"
   ]
  },
  {
   "cell_type": "code",
   "execution_count": null,
   "id": "5384afe5-3760-424e-8d7c-998f4aa724fe",
   "metadata": {},
   "outputs": [],
   "source": []
  }
 ],
 "metadata": {
  "kernelspec": {
   "display_name": "Python 3 (ipykernel)",
   "language": "python",
   "name": "python3"
  },
  "language_info": {
   "codemirror_mode": {
    "name": "ipython",
    "version": 3
   },
   "file_extension": ".py",
   "mimetype": "text/x-python",
   "name": "python",
   "nbconvert_exporter": "python",
   "pygments_lexer": "ipython3",
   "version": "3.9.13"
  }
 },
 "nbformat": 4,
 "nbformat_minor": 5
}