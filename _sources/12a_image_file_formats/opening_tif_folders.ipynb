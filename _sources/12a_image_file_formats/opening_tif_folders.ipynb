{
 "cells": [
  {
   "cell_type": "markdown",
   "id": "71f84baf-4332-4a4f-8b04-989417f0dac4",
   "metadata": {},
   "source": [
    "# Chargement de dossiers multi-canaux / multi-positions de fichiers tif\n",
    "Certains microscopes \u00e9crivent les donn\u00e9es d'image sur le disque sous forme de fichiers tif, tranche par tranche. Vous trouverez alors de nombreux fichiers nomm\u00e9s par exemple `image_z03_ch01.tif` dans ces dossiers. Pour charger ces dossiers, vous devez g\u00e9n\u00e9ralement conna\u00eetre des d\u00e9tails tels que le nombre de tranches z et le nombre de canaux imag\u00e9s, ou si les donn\u00e9es d'image ont plusieurs points temporels ou non.\n",
    "\n",
    "Voir aussi [cette discussion](https://forum.image.sc/t/reading-2d-images-as-a-multi-channel-3d-stack-in-python/75460)."
   ]
  },
  {
   "cell_type": "code",
   "execution_count": 1,
   "id": "5dcadd94-3c42-435a-a4cc-52082757b13c",
   "metadata": {},
   "outputs": [],
   "source": [
    "from skimage import io\n",
    "import matplotlib.pyplot as plt\n",
    "import tifffile as tif\n",
    "import numpy as np\n",
    "\n",
    "import shutil\n",
    "import os\n",
    "\n",
    "path = \"../../data/tif_folder/\""
   ]
  },
  {
   "cell_type": "markdown",
   "id": "d16d6962-3e29-4b93-a1b9-54d2d7b9c539",
   "metadata": {},
   "source": [
    "\u00c0 des fins de d\u00e9monstration, nous cr\u00e9ons simplement un tel dossier avec des donn\u00e9es d'image factices."
   ]
  },
  {
   "cell_type": "code",
   "execution_count": 2,
   "id": "c4d89a5f-5f7d-44e2-b350-4a8a8ec11040",
   "metadata": {},
   "outputs": [],
   "source": [
    "if not os.path.exists(path):\n",
    "    os.mkdir(path)"
   ]
  },
  {
   "cell_type": "code",
   "execution_count": 3,
   "id": "f5cc4c11-b95e-406a-b16d-f02a98f40ccd",
   "metadata": {},
   "outputs": [],
   "source": [
    "for z in range(1,7):\n",
    "    for c in range(1,5):\n",
    "        #image = io.imread(\"c:/structure/data/blobs.tif\")\n",
    "        #io.imsave(f\"c:/structure/data/images/r01c01f34p0{z}-ch0{c}t01.tiff\", image)\n",
    "        \n",
    "        shutil.copy(\"../../data/blobs.tif\",\n",
    "                    path + f\"image_z{str(z).zfill(2)}-ch{str(c).zfill(2)}.tiff\")"
   ]
  },
  {
   "cell_type": "markdown",
   "id": "2d57f8f6-52e3-454f-a05f-34c28b20cbc0",
   "metadata": {},
   "source": [
    "Pour avoir un aper\u00e7u, nous pouvons afficher les noms de fichiers dans le dossier."
   ]
  },
  {
   "cell_type": "code",
   "execution_count": 4,
   "id": "bbf4b820-b7ab-4406-8ee0-90469159aa25",
   "metadata": {},
   "outputs": [
    {
     "name": "stdout",
     "output_type": "stream",
     "text": [
      "image_z01-ch01.tiff\n",
      "image_z01-ch02.tiff\n",
      "image_z01-ch03.tiff\n",
      "image_z01-ch04.tiff\n",
      "image_z02-ch01.tiff\n",
      "image_z02-ch02.tiff\n",
      "image_z02-ch03.tiff\n",
      "image_z02-ch04.tiff\n",
      "image_z03-ch01.tiff\n",
      "image_z03-ch02.tiff\n",
      "image_z03-ch03.tiff\n",
      "image_z03-ch04.tiff\n",
      "image_z04-ch01.tiff\n",
      "image_z04-ch02.tiff\n",
      "image_z04-ch03.tiff\n",
      "image_z04-ch04.tiff\n",
      "image_z05-ch01.tiff\n",
      "image_z05-ch02.tiff\n",
      "image_z05-ch03.tiff\n",
      "image_z05-ch04.tiff\n",
      "image_z06-ch01.tiff\n",
      "image_z06-ch02.tiff\n",
      "image_z06-ch03.tiff\n",
      "image_z06-ch04.tiff\n"
     ]
    }
   ],
   "source": [
    "for file in os.listdir(path):\n",
    "    print(file)"
   ]
  },
  {
   "cell_type": "markdown",
   "id": "fecc5d69-2f8c-4c05-89d2-41b40616b916",
   "metadata": {},
   "source": [
    "scikit-image propose une fonction [`imread_collection`](https://scikit-image.org/docs/stable/api/skimage.io.html#skimage.io.imread_collection) pour charger des fichiers correspondant \u00e0 un motif, par exemple contenant `*`."
   ]
  },
  {
   "cell_type": "code",
   "execution_count": 5,
   "id": "4ee85a79-0c8e-4d1b-a2a5-b563c25d8b39",
   "metadata": {},
   "outputs": [
    {
     "data": {
      "text/plain": [
       "<skimage.io.collection.ImageCollection at 0x2244cd228e0>"
      ]
     },
     "execution_count": 5,
     "metadata": {},
     "output_type": "execute_result"
    }
   ],
   "source": [
    "im_collection = io.imread_collection(path + \"*\")\n",
    "im_collection"
   ]
  },
  {
   "cell_type": "markdown",
   "id": "118f72a7-9124-4970-9d3a-95e78c4635bd",
   "metadata": {},
   "source": [
    "Vous pouvez transformer cette collection d'images en une pile d'images bas\u00e9e sur un tableau numpy. Malheureusement, le nombre de tranches z et de canaux est inconnu \u00e0 ce stade."
   ]
  },
  {
   "cell_type": "code",
   "execution_count": 6,
   "id": "61ebcdcd-a8f8-4b7f-a6e6-470541e14d1b",
   "metadata": {},
   "outputs": [
    {
     "data": {
      "text/plain": [
       "(24, 254, 256)"
      ]
     },
     "execution_count": 6,
     "metadata": {},
     "output_type": "execute_result"
    }
   ],
   "source": [
    "image_stack = im_collection.concatenate()\n",
    "image_stack.shape"
   ]
  },
  {
   "cell_type": "markdown",
   "id": "ed8a414b-6b3d-4898-a2cb-be04fe5f2bdc",
   "metadata": {},
   "source": [
    "Si vous connaissez le nombre de tranches z et de canaux, vous pouvez [`reshape`]() l'image en une image 3D+ch ou 4D."
   ]
  },
  {
   "cell_type": "code",
   "execution_count": 7,
   "id": "56260861-930d-4faf-9fea-ef16be53a4ab",
   "metadata": {},
   "outputs": [
    {
     "data": {
      "text/plain": [
       "(4, 6, 254, 256)"
      ]
     },
     "execution_count": 7,
     "metadata": {},
     "output_type": "execute_result"
    }
   ],
   "source": [
    "num_channels = 4\n",
    "num_z_slices = 6\n",
    "image4d = np.reshape(image_stack, (num_channels, num_z_slices, image_stack.shape[-2], image_stack.shape[-1]))\n",
    "image4d.shape"
   ]
  },
  {
   "cell_type": "markdown",
   "id": "5eb92aad-91b4-444b-977f-996ba6bec1ff",
   "metadata": {},
   "source": [
    "Alternativement, vous pouvez \u00e9galement construire vos propres boucles for pour charger les donn\u00e9es \u00e0 partir du disque. Cela vous donne un peu plus de libert\u00e9, par exemple pour trier les tranches et les canaux dans les dimensions utilis\u00e9es."
   ]
  },
  {
   "cell_type": "code",
   "execution_count": 8,
   "id": "bf1fa78a-de06-406c-97d8-fc42a1627ed7",
   "metadata": {},
   "outputs": [
    {
     "data": {
      "text/plain": [
       "(6, 4, 254, 256)"
      ]
     },
     "execution_count": 8,
     "metadata": {},
     "output_type": "execute_result"
    }
   ],
   "source": [
    "num_channels = 4\n",
    "num_z_slices = 6\n",
    "\n",
    "image4d_loaded = np.asarray([\n",
    "    [io.imread(path + f\"image_z{str(z).zfill(2)}-ch{str(c).zfill(2)}.tiff\") for c in range(1, 5)]\n",
    "    for z in range(1, 7)\n",
    "])\n",
    "image4d_loaded.shape"
   ]
  },
  {
   "cell_type": "code",
   "execution_count": null,
   "id": "ae87cfa4-5acd-4e98-a520-bd04be1d54ab",
   "metadata": {},
   "outputs": [],
   "source": []
  }
 ],
 "metadata": {
  "kernelspec": {
   "display_name": "Python 3 (ipykernel)",
   "language": "python",
   "name": "python3"
  },
  "language_info": {
   "codemirror_mode": {
    "name": "ipython",
    "version": 3
   },
   "file_extension": ".py",
   "mimetype": "text/x-python",
   "name": "python",
   "nbconvert_exporter": "python",
   "pygments_lexer": "ipython3",
   "version": "3.9.15"
  },
  "widgets": {
   "application/vnd.jupyter.widget-state+json": {
    "state": {},
    "version_major": 2,
    "version_minor": 0
   }
  }
 },
 "nbformat": 4,
 "nbformat_minor": 5
}